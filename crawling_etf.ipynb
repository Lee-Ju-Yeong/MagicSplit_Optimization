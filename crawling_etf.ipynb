{
 "cells": [
  {
   "cell_type": "code",
   "execution_count": 24,
   "id": "03f02f8e-d324-4285-8b75-5add60b2e909",
   "metadata": {},
   "outputs": [],
   "source": [
    "# !pip install beautifulsoup4 pandas openpyxl selenium\n",
    "# !pip install webdriver-manager\n",
    "\n",
    "from selenium import webdriver\n",
    "from selenium.webdriver.common.by import By\n",
    "from selenium.webdriver.chrome.service import Service\n",
    "from webdriver_manager.chrome import ChromeDriverManager\n",
    "import pandas as pd\n",
    "import time"
   ]
  },
  {
   "cell_type": "code",
   "execution_count": 25,
   "id": "88f53da4",
   "metadata": {},
   "outputs": [],
   "source": [
    "# 크롬 드라이버 설정\n",
    "options = webdriver.ChromeOptions()\n",
    "options.add_argument('headless')  # 브라우저 창을 띄우지 않음\n",
    "options.add_argument('disable-gpu')  # GPU 가속 비활성화\n",
    "options.add_argument('lang=ko_KR')  # 한국어 페이지\n",
    "\n",
    "# 크롬 드라이버 초기화\n",
    "driver = webdriver.Chrome(service=Service(ChromeDriverManager().install()), options=options)"
   ]
  },
  {
   "cell_type": "code",
   "execution_count": 26,
   "id": "30d327b5",
   "metadata": {},
   "outputs": [],
   "source": [
    "# URL에서 HTML 컨텐츠를 가져옴\n",
    "url = 'https://finance.naver.com/sise/etf.naver'\n",
    "driver.get(url)\n"
   ]
  },
  {
   "cell_type": "code",
   "execution_count": 28,
   "id": "5b0d09ce",
   "metadata": {},
   "outputs": [
    {
     "name": "stdout",
     "output_type": "stream",
     "text": [
      "Excel 파일로 저장되었습니다: etf_list.xlsx\n"
     ]
    }
   ],
   "source": [
    "# 페이지 로드 대기\n",
    "time.sleep(5)\n",
    "\n",
    "# 종목명과 티커를 추출하여 리스트로 저장\n",
    "etf_data = []\n",
    "rows = driver.find_elements(By.CSS_SELECTOR, '#etfItemTable > tr')\n",
    "for row in rows:\n",
    "    name_col = row.find_elements(By.CSS_SELECTOR, 'td.ctg a')\n",
    "    if name_col:\n",
    "        name = name_col[0].text.strip()\n",
    "        ticker = name_col[0].get_attribute('href').split('=')[-1]  # 종목명 링크에서 티커 추출\n",
    "        etf_data.append([name, ticker])\n",
    "\n",
    "# 드라이버 종료\n",
    "driver.quit()\n",
    "\n",
    "# DataFrame 생성\n",
    "df = pd.DataFrame(etf_data, columns=['종목명', '티커'])\n",
    "\n",
    "# DataFrame을 Excel 파일로 저장\n",
    "excel_filename = 'etf_list.xlsx'\n",
    "df.to_excel(excel_filename, index=False)\n",
    "\n",
    "print(f\"Excel 파일로 저장되었습니다: {excel_filename}\")\n"
   ]
  }
 ],
 "metadata": {
  "kernelspec": {
   "display_name": "Python 3 (ipykernel)",
   "language": "python",
   "name": "python3"
  },
  "language_info": {
   "codemirror_mode": {
    "name": "ipython",
    "version": 3
   },
   "file_extension": ".py",
   "mimetype": "text/x-python",
   "name": "python",
   "nbconvert_exporter": "python",
   "pygments_lexer": "ipython3",
   "version": "3.8.8"
  }
 },
 "nbformat": 4,
 "nbformat_minor": 5
}
