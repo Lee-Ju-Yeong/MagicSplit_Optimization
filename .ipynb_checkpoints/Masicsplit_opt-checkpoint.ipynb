{
 "cells": [
  {
   "cell_type": "markdown",
   "id": "f3583e6a-8630-467a-9c75-ff76ba530a10",
   "metadata": {},
   "source": [
    "## 1. Imports 및 클래스 정의"
   ]
  },
  {
   "cell_type": "code",
   "execution_count": null,
   "id": "4b5f5e33-f586-4c5a-aaa4-6162b03f54d9",
   "metadata": {},
   "outputs": [],
   "source": [
    "import pandas as pd\n",
    "import matplotlib.pyplot as plt\n",
    "import os\n",
    "import concurrent.futures\n",
    "from sqlalchemy import create_engine\n",
    "\n",
    "\n",
    "\n",
    "class Position:\n",
    "    def __init__(self, buy_price, quantity,order,additional_buy_drop_rate,sell_profit_rate):\n",
    "        self.buy_price = buy_price\n",
    "        self.quantity = quantity\n",
    "        self.order = order  # 포지션의 차수\n",
    "        self.additional_buy_drop_rate = additional_buy_drop_rate  # 추가 매수 드랍 비율 추가\n",
    "        self.sell_profit_rate = sell_profit_rate  # 매도 수익률 추가\n",
    "\n"
   ]
  },
  {
   "cell_type": "markdown",
   "id": "a8cbbe20-80c1-4df4-8f48-14fce33a7af9",
   "metadata": {},
   "source": [
    "## 2. 롤링 윈도우 계산 함수"
   ]
  },
  {
   "cell_type": "code",
   "execution_count": null,
   "id": "917cc272-739e-4ec0-a4d8-142c2c79e941",
   "metadata": {},
   "outputs": [],
   "source": [
    "def rolling_window_calculations(df):\n",
    "    window_size = max(int(len(df) * 2 / 3), 1)  # 윈도우 크기를 정수형으로 설정, 최소값은 1\n",
    "    window_size = min(window_size, 5 * 252)  # 윈도우 크기가 5년치를 넘지 않도록 설정\n",
    "    min_periods = min(window_size, 252)  # 최소 기간 설정\n",
    "\n",
    "    df = df.copy()\n",
    "    df = df[df['PBR'] != 0]\n",
    "    df['five_year_high'] = df['고가'].rolling(window=window_size, min_periods=min_periods).max()\n",
    "    df['five_year_low'] = df['종가'].rolling(window=window_size, min_periods=min_periods).min()\n",
    "    df['normalized_price'] = (df['종가'] - df['five_year_low']) / (df['five_year_high'] - df['five_year_low']) * 100  # 진입시기결정\n",
    "    df['five_year_avg_pbr'] = df['PBR'].rolling(window=window_size, min_periods=min_periods).mean()\n",
    "    df = df.dropna(subset=['five_year_avg_pbr'])\n",
    "\n",
    "    return df\n"
   ]
  },
  {
   "cell_type": "markdown",
   "id": "11bb1a13-03fe-4837-ae4b-84212a0f0241",
   "metadata": {},
   "source": [
    "## 3. 매수 및 매도 조건 체크 함수"
   ]
  },
  {
   "cell_type": "code",
   "execution_count": 3,
   "id": "8e7b1cfc-5298-4206-b460-d915f9112f0d",
   "metadata": {},
   "outputs": [],
   "source": [
    "def check_buy_sell_conditions(row, positions, capital, investment_per_split, num_splits, buy_threshold, buy_signals, sell_signals,code):\n",
    "    # ... (중략)\n",
    "    return positions, capital, None\n"
   ]
  },
  {
   "cell_type": "markdown",
   "id": "73e7828e-1602-4443-b820-fe6708d6cd6e",
   "metadata": {},
   "source": [
    "## 4. 매수 및 매도 수익률 계산 함수"
   ]
  },
  {
   "cell_type": "code",
   "execution_count": null,
   "id": "cc4d1b5a-75b6-4438-95ac-d42076979f1f",
   "metadata": {},
   "outputs": [],
   "source": [
    "def calculate_additional_buy_drop_rate(last_buy_price, five_year_low, num_splits):\n",
    "    return 1 - ((five_year_low / last_buy_price) ** (1 / (num_splits - 1)))\n",
    "\n",
    "def calculate_sell_profit_rate(buy_profit_rate):\n",
    "    sell_profit_rate = (1 / (1 - buy_profit_rate)) - 1\n",
    "    return sell_profit_rate \n"
   ]
  },
  {
   "cell_type": "markdown",
   "id": "d0c89af2-fecf-4980-9ff4-2d7df64f8a2f",
   "metadata": {},
   "source": [
    "## 5. 포트폴리오 가치 업데이트 함수"
   ]
  },
  {
   "cell_type": "code",
   "execution_count": null,
   "id": "a8cd55ce-dbf5-4ab5-9bf3-9a2dfe9d3764",
   "metadata": {
    "jupyter": {
     "source_hidden": true
    }
   },
   "outputs": [],
   "source": [
    "def update_portfolio_values(positions, capital):\n",
    "    portfolio_value = capital + sum(position.quantity * position.buy_price for position in positions)\n",
    "    return portfolio_value\n"
   ]
  },
  {
   "cell_type": "markdown",
   "id": "58676c20-d5b2-49d4-b7b1-a2a7cd038477",
   "metadata": {},
   "source": [
    "## 6. 최종 결과 계산 함수"
   ]
  },
  {
   "cell_type": "code",
   "execution_count": null,
   "id": "e489e421-a837-49a5-85ee-1b7f0d2a16b5",
   "metadata": {},
   "outputs": [],
   "source": [
    "def calculate_final_results(initial_capital, final_capital, total_days):\n",
    "    total_profit = final_capital - initial_capital\n",
    "    return_on_investment = (total_profit / initial_capital) * 100\n",
    "    total_years = total_days / 365.25\n",
    "\n",
    "    if final_capital <= 0:\n",
    "        cagr = -1\n",
    "    else:\n",
    "        cagr = ((final_capital / initial_capital) ** (1 / total_years)) - 1\n",
    "\n",
    "    return total_profit, return_on_investment, cagr \n"
   ]
  },
  {
   "cell_type": "markdown",
   "id": "b073d591-42cc-4a88-928d-1b0e99833eb8",
   "metadata": {},
   "source": [
    "## 7. 종목 데이터 로드 및 기간 설정 함수"
   ]
  },
  {
   "cell_type": "code",
   "execution_count": null,
   "id": "a05cbdde-3a84-4d90-8ffd-59b547bb5677",
   "metadata": {},
   "outputs": [],
   "source": [
    "def get_trading_dates(stock_data):\n",
    "    all_dates = set()\n",
    "    for code, data in stock_data.items():\n",
    "        all_dates.update(data.index)\n",
    "    return sorted(list(all_dates))\n",
    "\n",
    "def load_stock_codes_from_db(engine):\n",
    "    query = \"SELECT stock_code FROM stock_codes\"\n",
    "    with engine.connect() as connection:\n",
    "        result = connection.execute(query)\n",
    "        stock_codes = [row['stock_code'] for row in result]\n",
    "    return stock_codes\n",
    "\n",
    "def load_stock_data_from_db(engine, stock_code):\n",
    "    query = f\"SELECT * FROM stock_data WHERE stock_code = '{stock_code}'\"\n",
    "    with engine.connect() as connection:\n",
    "        df = pd.read_sql(query, connection)\n",
    "    df['날짜'] = pd.to_datetime(df['날짜'])\n",
    "    df.set_index('날짜', inplace=True)\n",
    "    return df\n",
    "\n",
    "def load_all_stock_data(stock_codes):\n",
    "    stock_data = {}\n",
    "    for code in stock_codes:\n",
    "        df = load_stock_data_from_db(engine, code)\n",
    "        df = rolling_window_calculations(df)\n",
    "        stock_data[code] = df\n",
    "    print(f'{code} done')\n",
    "    return stock_data\n",
    "\n",
    "def get_data_for_period(stock_data, start_year=2009, end_year=2023):\n",
    "    period_data = {}\n",
    "    for code, data in stock_data.items():\n",
    "        start_date = pd.Timestamp(year=start_year, month=1, day=1)\n",
    "        end_date = pd.Timestamp(year=end_year, month=12, day=31)\n",
    "        period_data[code] = data[(data.index >= start_date) & (data.index <= end_date)]\n",
    "    return period_data\n"
   ]
  },
  {
   "cell_type": "markdown",
   "id": "52dd9e2e-8c1c-4aff-b094-de7dc96b4248",
   "metadata": {},
   "source": [
    "## 8. 포트폴리오 백테스팅 함수"
   ]
  },
  {
   "cell_type": "code",
   "execution_count": null,
   "id": "0d54416c-5843-44c4-bc8e-4cb9db09adfc",
   "metadata": {},
   "outputs": [],
   "source": [
    "def portfolio_backtesting(stock_codes, initial_capital, num_splits, investment_ratio, buy_threshold, stock_data):\n",
    "    # ... (중략)\n",
    "    return positions_dict, total_portfolio_value, portfolio_values_over_time, capital_over_time, buy_signals, sell_signals, all_trading_dates, cagr\n"
   ]
  },
  {
   "cell_type": "markdown",
   "id": "b3b9c75d-3c17-42f2-81f5-9facab292456",
   "metadata": {},
   "source": [
    "## 9. 백테스팅 래퍼 및 평균 CAGR 계산 함수"
   ]
  },
  {
   "cell_type": "code",
   "execution_count": null,
   "id": "99f4d998-c935-486c-9fc5-4a586b7694e3",
   "metadata": {},
   "outputs": [],
   "source": [
    "def backtesting_wrapper(params):\n",
    "    try:\n",
    "        _, _, _, _, _, _, _, cagr = portfolio_backtesting(stock_codes, initial_capital, params[0], params[2], params[1], stock_data)\n",
    "        return params[0], params[1], params[2], cagr\n",
    "    except Exception as e:\n",
    "        print(f'Error in backtesting: {e}')\n",
    "        return params[0], params[1], params[2], None\n",
    "\n",
    "def check_if_already_calculated(num_splits, buy_threshold, investment_ratio):\n",
    "    if os.path.exists(results_file):\n",
    "        existing_results = pd.read_csv(results_file)\n",
    "        return any((existing_results['num_splits'] == num_splits) & \n",
    "                   (existing_results['buy_threshold'] == buy_threshold) &\n",
    "                   (existing_results['investment_ratio'] == investment_ratio))\n",
    "    return False\n",
    "\n",
    "def run_backtesting_for_period(stock_codes, initial_capital, num_splits, investment_ratio, buy_threshold, start_year, end_year, loaded_stock_data):\n",
    "    period_stock_data = get_data_for_period(loaded_stock_data, start_year, end_year)\n",
    "    _, total_portfolio_value, _, _, _, _, _, cagr = portfolio_backtesting(\n",
    "        stock_codes, initial_capital, num_splits, investment_ratio, buy_threshold, loaded_stock_data)\n",
    "    return total_portfolio_value, cagr\n",
    "\n",
    "def calculate_average_results(backtesting_results):\n",
    "    total_values = [result[0] for result in backtesting_results]\n",
    "    cagr_values = [result[1] for result in backtesting_results]\n",
    "    average_total_value = sum(total_values) / len(total_values)\n",
    "    average_cagr = sum(cagr_values) / len(cagr_values)\n",
    "    return average_total_value, average_cagr\n",
    "\n",
    "def average_cagr_wrapper(params):\n",
    "    period_results = []\n",
    "    for start_year, end_year in time_periods:\n",
    "        try:\n",
    "            total_value, cagr = run_backtesting_for_period(\n",
    "                stock_codes, initial_capital, params[0], params[2], params[1], start_year, end_year, stock_data)\n",
    "            period_results.append((total_value, cagr))\n",
    "            print(f'기간 하나 완료{params}')\n",
    "        except Exception as e:\n",
    "            print(f'Error in backtesting for period {start_year}-{end_year}: {e}')\n",
    "            period_results.append((0, None))\n",
    "    average_results = calculate_average_results(period_results)\n",
    "    return params[0], params[1], params[2], average_results[0], average_results[1]\n"
   ]
  },
  {
   "cell_type": "markdown",
   "id": "bd795900-32fe-48a9-b239-143e3449726a",
   "metadata": {},
   "source": [
    "## 10. 메인 실행 코드"
   ]
  },
  {
   "cell_type": "code",
   "execution_count": null,
   "id": "1b5bd0be-e8a6-4c24-b46e-10641daab919",
   "metadata": {},
   "outputs": [],
   "source": [
    "\n",
    "initial_capital = 100000000  # 초기 자본\n",
    "num_splits_options = [10] \n",
    "buy_threshold_options = [30, 35, 40, 45, 50, 55, 60]\n",
    "investment_ratio_options = [0.15, 0.2, 0.25, 0.3, 0.35, 0.4, 0.45, 0.5]\n",
    "\n",
    "time_periods = [(2009, 2014), (2011, 2016), (2013, 2018), (2015, 2020), (2017, 2022), (2018, 2023), (2009, 2016), (2016, 2023)]\n",
    "\n",
    "combinations = [(n, b, i) for n in num_splits_options for b in buy_threshold_options for i in investment_ratio_options]\n",
    "\n",
    "# 모든 종목 데이터 로드\n",
    "engine = create_engine('sqlite:///stock_data.db')\n",
    "stock_codes = load_stock_codes_from_db(engine)\n",
    "stock_data = load_all_stock_data(stock_codes, engine)"
   ]
  }
 ],
 "metadata": {
  "kernelspec": {
   "display_name": "Python 3 (ipykernel)",
   "language": "python",
   "name": "python3"
  },
  "language_info": {
   "codemirror_mode": {
    "name": "ipython",
    "version": 3
   },
   "file_extension": ".py",
   "mimetype": "text/x-python",
   "name": "python",
   "nbconvert_exporter": "python",
   "pygments_lexer": "ipython3",
   "version": "3.8.8"
  }
 },
 "nbformat": 4,
 "nbformat_minor": 5
}
