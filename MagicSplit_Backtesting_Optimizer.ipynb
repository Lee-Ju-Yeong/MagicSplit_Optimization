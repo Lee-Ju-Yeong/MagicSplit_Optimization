{
 "cells": [
  {
   "cell_type": "code",
   "execution_count": 1,
   "id": "e68d496a",
   "metadata": {},
   "outputs": [],
   "source": [
    "# !pip uninstall pandas -y\n",
    "# !pip install pandas\n"
   ]
  },
  {
   "cell_type": "markdown",
   "id": "f3583e6a-8630-467a-9c75-ff76ba530a10",
   "metadata": {},
   "source": [
    "### 1. Imports 및 클래스 정의"
   ]
  },
  {
   "cell_type": "code",
   "execution_count": 2,
   "id": "4b5f5e33-f586-4c5a-aaa4-6162b03f54d9",
   "metadata": {},
   "outputs": [],
   "source": [
    "# import pandas as pd\n",
    "import matplotlib.pyplot as plt\n",
    "import os\n",
    "import concurrent.futures\n",
    "from tqdm import tqdm\n",
    "# from sqlalchemy import create_engine\n",
    "import pymysql\n",
    "import datetime\n",
    "import random\n",
    "import configparser\n",
    "from cryptography.fernet import Fernet\n",
    "import mysql.connector\n",
    "from datetime import timedelta\n",
    "import numpy as np\n",
    "import pandas as pd\n",
    "\n",
    "\n",
    "\n",
    "class Position:\n",
    "    def __init__(self, buy_price, quantity,order,additional_buy_drop_rate,sell_profit_rate):\n",
    "        self.buy_price = buy_price\n",
    "        self.quantity = quantity\n",
    "        self.order = order  # 포지션의 차수\n",
    "        self.additional_buy_drop_rate = additional_buy_drop_rate  \n",
    "        self.sell_profit_rate = sell_profit_rate \n",
    "\n"
   ]
  },
  {
   "cell_type": "markdown",
   "id": "a8cbbe20-80c1-4df4-8f48-14fce33a7af9",
   "metadata": {},
   "source": [
    "### 2. 롤링 윈도우 계산 함수"
   ]
  },
  {
   "cell_type": "code",
   "execution_count": 3,
   "id": "917cc272-739e-4ec0-a4d8-142c2c79e941",
   "metadata": {},
   "outputs": [],
   "source": [
    "\n",
    "# 데이터베이스에서 조건을 만족하는 종목을 동적으로 가져오는 함수\n",
    "def get_stock_codes(date, per_threshold, pbr_threshold, div_threshold, buy_threshold, db_params, consider_delisting):\n",
    "    conn = mysql.connector.connect(**db_params)\n",
    "    cursor = conn.cursor()\n",
    "    date_str = pd.to_datetime(date).strftime('%Y-%m-%d')\n",
    "\n",
    "    if consider_delisting:\n",
    "        query = f\"\"\"\n",
    "        SELECT ticker \n",
    "        FROM stock_data \n",
    "        WHERE date = '{date_str}' \n",
    "        AND PER > 0 \n",
    "        AND PER <= {per_threshold} \n",
    "        AND PBR > 0 \n",
    "        AND PBR <= {pbr_threshold} \n",
    "        AND dividend >= {div_threshold}\n",
    "        AND normalized_value <= {buy_threshold}\n",
    "        \"\"\"\n",
    "    else:\n",
    "        query = f\"\"\"\n",
    "        SELECT sd.ticker \n",
    "        FROM stock_data sd\n",
    "        LEFT JOIN (\n",
    "            SELECT ticker, MAX(date) as last_date\n",
    "            FROM stock_data\n",
    "            GROUP BY ticker\n",
    "        ) ld ON sd.ticker = ld.ticker\n",
    "        WHERE sd.date = '{date_str}' \n",
    "        AND sd.PER > 0 \n",
    "        AND sd.PER <= {per_threshold} \n",
    "        AND sd.PBR > 0 \n",
    "        AND sd.PBR <= {pbr_threshold} \n",
    "        AND sd.dividend >= {div_threshold}\n",
    "        AND sd.normalized_value <= {buy_threshold}\n",
    "        AND ld.last_date >= '2024-06-01'\n",
    "        \"\"\"\n",
    "    \n",
    "    cursor.execute(query)\n",
    "    rows = cursor.fetchall()\n",
    "    df = pd.DataFrame(rows, columns=['ticker'])\n",
    "    cursor.close()\n",
    "    conn.close()\n",
    "    return df['ticker'].tolist()\n",
    "\n",
    "# MySQL에서 데이터를 불러오는 함수\n",
    "def load_stock_data_from_mysql(ticker, start_date, end_date, db_params):\n",
    "    conn = mysql.connector.connect(**db_params)\n",
    "    cursor = conn.cursor()\n",
    "    \n",
    "    # start_date 이전 5년의 데이터를 함께 가져오기 위해 5년 전 날짜 계산\n",
    "    extended_start_date = pd.to_datetime(start_date) - timedelta(days=252*5)\n",
    "    extended_start_date_str = extended_start_date.strftime('%Y-%m-%d')\n",
    "    end_date_str = pd.to_datetime(end_date).strftime('%Y-%m-%d')\n",
    "\n",
    "    query = f\"\"\"\n",
    "        SELECT * FROM stock_data \n",
    "        WHERE ticker = '{ticker}' AND date BETWEEN '{extended_start_date_str}' AND '{end_date_str}'\n",
    "    \"\"\"\n",
    "    cursor.execute(query)\n",
    "    \n",
    "    rows = cursor.fetchall()\n",
    "    columns = [desc[0] for desc in cursor.description]\n",
    "    df = pd.DataFrame(rows, columns=columns)\n",
    "    \n",
    "    # 날짜 형식 변환 및 인덱스 설정\n",
    "    df['date'] = pd.to_datetime(df['date'])\n",
    "    df.set_index('date', inplace=True)\n",
    "    \n",
    "    cursor.close()\n",
    "    conn.close()\n",
    "\n",
    "    # 5년 동안의 최저값 계산\n",
    "    df['five_year_low'] = df['close'].rolling(window=252*5, min_periods=1).min()\n",
    "    \n",
    "    # start_date 이후의 데이터만 반환\n",
    "    return df[df.index >= pd.to_datetime(start_date)]\n",
    "\n",
    "\n",
    "def get_data_for_period(stock_data, start_year=2009, end_year=2023):\n",
    "    period_data = {}\n",
    "    for code, data in stock_data.items():\n",
    "        start_date = pd.Timestamp(year=start_year, month=1, day=1)\n",
    "        end_date = pd.Timestamp(year=end_year, month=12, day=31)\n",
    "        period_data[code] = data[(data.index >= start_date) & (data.index <= end_date)]\n",
    "    return period_data\n",
    "    "
   ]
  },
  {
   "cell_type": "markdown",
   "id": "4da9a34a",
   "metadata": {},
   "source": [
    "### 3. 매수 및 매도 수익률 계산 함수"
   ]
  },
  {
   "cell_type": "code",
   "execution_count": 4,
   "id": "492b10ad",
   "metadata": {},
   "outputs": [],
   "source": [
    "def calculate_additional_buy_drop_rate(last_buy_price, five_year_low, num_splits):\n",
    "    return 1 - np.power((five_year_low / last_buy_price), (1 / (num_splits - 1)))\n",
    "\n",
    "def calculate_sell_profit_rate(buy_profit_rate):\n",
    "    \"\"\"\n",
    "    매수 수익률을 기반으로 매도 수익률을 계산\n",
    "    :buy_profit_rate: 매수 기준 수익률\n",
    "    :return: 계산된 매도 수익률\n",
    "    \"\"\"\n",
    "    sell_profit_rate = (1 / (1 - buy_profit_rate)) - 1\n",
    "    return sell_profit_rate \n",
    "    "
   ]
  },
  {
   "cell_type": "markdown",
   "id": "11bb1a13-03fe-4837-ae4b-84212a0f0241",
   "metadata": {},
   "source": [
    "### 4. 매수 및 매도 조건 체크 함수"
   ]
  },
  {
   "cell_type": "code",
   "execution_count": 5,
   "id": "d3856040",
   "metadata": {},
   "outputs": [],
   "source": [
    "\n",
    "def initial_buy_sell(row, positions, capital, investment_per_split, buy_threshold, buy_signals, sell_signals, code):\n",
    "    normalized = row['normalized_value']\n",
    "    five_year_low = row['five_year_low']\n",
    "    current_order = len(positions) + 1\n",
    "    # 수수료 및 증권거래세 비율\n",
    "    buy_commission_rate = 0.00015\n",
    "    sell_commission_rate = 0.00015\n",
    "    sell_tax_rate = 0.0018\n",
    "    # 변수 초기화\n",
    "    additional_buy_drop_rate = 0\n",
    "    sell_profit_rate = 0\n",
    "\n",
    "    # 1차 진입 조건 : normalized 가격이 buy_threshold보다 낮고 아직 매수하지 않았을 때\n",
    "    if normalized < buy_threshold and len(positions) == 0 and capital >= investment_per_split:\n",
    "        #차수별 수익률 계산 \n",
    "        additional_buy_drop_rate = calculate_additional_buy_drop_rate(row['close'], five_year_low, num_splits)\n",
    "        # 매도 수익률 계산\n",
    "        sell_profit_rate = calculate_sell_profit_rate(additional_buy_drop_rate)\n",
    "        quantity = int(investment_per_split / row['close'])\n",
    "        total_cost = int(row['close'] * quantity * (1 + buy_commission_rate))\n",
    "        new_position = Position(row['close'], quantity, 1, sell_profit_rate, additional_buy_drop_rate)\n",
    "        positions.append(new_position)\n",
    "        capital -= total_cost\n",
    "        # row.name은 현재 행의 인덱스 (날짜)를 반환. # 매수 시점 기록\n",
    "        buy_signals.append((row.name, row['close']))\n",
    "    # 청산된 종목 확인을 위한 변수\n",
    "    liquidated = False\n",
    "\n",
    "    # 1차 청산 조건\n",
    "    for position in positions:\n",
    "        if row['close'] > position.buy_price * (1 + position.sell_profit_rate) and position.order == 1:\n",
    "            total_revenue = int(row['close'] * position.quantity * (1 - sell_commission_rate - sell_tax_rate))\n",
    "            capital += total_revenue\n",
    "            positions.remove(position)\n",
    "            sell_signals.append((row.name, row['close']))\n",
    "            liquidated = True\n",
    "    # 청산된 경우 종목 코드 반환\n",
    "    if liquidated and not positions:\n",
    "        return positions, capital, code\n",
    "    else:\n",
    "        return positions, capital, None\n",
    "\n",
    "# 기존종목의 2차 이상의 추가 매수 함수\n",
    "def additional_buy(row, positions, capital, investment_per_split, num_splits, buy_signals):\n",
    "    # 수수료 비율\n",
    "    buy_commission_rate = 0.00015\n",
    "    # 추가 매수 조건: 이미 매수했고, 현재 가격이 이전 매수 가격보다 더 낮아졌을 때\n",
    "    if positions and len(positions) < num_splits and capital >= investment_per_split:\n",
    "        # 마지막 포지션(가장 최근 매수)\n",
    "        last_position = positions[-1]\n",
    "        if row['close'] <= last_position.buy_price * (1 - last_position.additional_buy_drop_rate):\n",
    "            quantity = int(investment_per_split / row['close'])\n",
    "            total_cost = int(row['close'] * quantity * (1 + buy_commission_rate))\n",
    "            new_position = Position(row['close'], quantity, len(positions) + 1, last_position.sell_profit_rate, last_position.additional_buy_drop_rate)\n",
    "            positions.append(new_position)\n",
    "            capital -= total_cost\n",
    "            buy_signals.append((row.name, row['close']))\n",
    "\n",
    "    return positions, capital\n",
    "\n",
    "#2차 이상의 매도 함수\n",
    "def additional_sell(row, positions, capital, sell_signals):\n",
    "    # 수수료 및 증권거래세 비율\n",
    "    sell_commission_rate = 0.00015\n",
    "    sell_tax_rate = 0.0018\n",
    "\n",
    "    for position in positions:\n",
    "        # 2차이면서 매수가보다 일정비율이상의 조건에서\n",
    "        if row['close'] >= position.buy_price * (1 + position.sell_profit_rate) and position.order > 1:\n",
    "            total_revenue = int(row['close'] * position.quantity * (1 - sell_commission_rate - sell_tax_rate))\n",
    "            capital += total_revenue\n",
    "            positions.remove(position)\n",
    "            # 매도신호(날짜,단가) 저장\n",
    "            sell_signals.append((row.name, row['close']))\n",
    "\n",
    "    return positions, capital\n",
    "\n"
   ]
  },
  {
   "cell_type": "markdown",
   "id": "b073d591-42cc-4a88-928d-1b0e99833eb8",
   "metadata": {},
   "source": [
    "### 7. 종목 데이터 로드 및 기간 설정 함수"
   ]
  },
  {
   "cell_type": "code",
   "execution_count": 6,
   "id": "a05cbdde-3a84-4d90-8ffd-59b547bb5677",
   "metadata": {},
   "outputs": [],
   "source": [
    "def get_trading_dates_from_db(db_params, start_date, end_date):\n",
    "    conn = mysql.connector.connect(**db_params)\n",
    "    cursor = conn.cursor()\n",
    "    query = f\"SELECT DISTINCT date FROM stock_data WHERE date BETWEEN '{start_date}' AND '{end_date}' ORDER BY date\"\n",
    "    cursor.execute(query)\n",
    "    rows = cursor.fetchall()\n",
    "    df = pd.DataFrame(rows, columns=['date'])\n",
    "    \n",
    "    cursor.close()\n",
    "    conn.close()\n",
    "    trading_dates = df['date'].tolist()\n",
    "    return trading_dates\n"
   ]
  },
  {
   "cell_type": "markdown",
   "id": "52dd9e2e-8c1c-4aff-b094-de7dc96b4248",
   "metadata": {},
   "source": [
    "### 8. 포트폴리오 백테스팅 함수"
   ]
  },
  {
   "cell_type": "code",
   "execution_count": 7,
   "id": "0d54416c-5843-44c4-bc8e-4cb9db09adfc",
   "metadata": {},
   "outputs": [],
   "source": [
    "def portfolio_backtesting(initial_capital, num_splits, investment_ratio, buy_threshold, start_date, \n",
    "                          end_date, db_params, per_threshold, pbr_threshold, div_threshold, \n",
    "                          min_additional_buy_drop_rate, consider_delisting,max_stocks=20):\n",
    "    total_portfolio_value = initial_capital\n",
    "    capital = initial_capital  # capital을 초기 자본으로 초기화\n",
    "    positions_dict = {}  # 각 종목별 포지션 리스트를 위한 딕셔너리\n",
    "    buy_signals = []  # 매수 신호를 기록하는 리스트\n",
    "    sell_signals = []  # 매도 신호를 기록하는 리스트\n",
    "    portfolio_values_over_time = []\n",
    "    capital_over_time = []  # 자본 변화 추적을 위한 리스트 초기화\n",
    "\n",
    "    # NumPy 배열로 변환\n",
    "    portfolio_values_over_time = np.array(portfolio_values_over_time)\n",
    "    capital_over_time = np.array(capital_over_time)\n",
    "\n",
    "    # 추가: 진입된 종목과 그들의 현재 최대 차수를 추적하기 위한 딕셔너리\n",
    "    entered_stocks = set()  # 진입된 종목을 추적하는 집합\n",
    "    current_orders_dict = {}  # 종목별 현재 차수를 추적하는 딕셔너리\n",
    "    loaded_stock_data = {}   \n",
    "\n",
    "    previous_month = None\n",
    "    \n",
    "    # 특정 기간 내의 모든 거래 날짜 가져오기\n",
    "    all_trading_dates = get_trading_dates_from_db(db_params, start_date, end_date)\n",
    "\n",
    "    conn = mysql.connector.connect(**db_params)\n",
    "    cursor = conn.cursor()\n",
    "    query = \"\"\"\n",
    "        CREATE TEMPORARY TABLE delisted_stocks AS\n",
    "        SELECT ticker, MAX(date) AS delisted_date\n",
    "        FROM stock_data\n",
    "        GROUP BY ticker\n",
    "        HAVING MAX(date) < '2024-06-01'\n",
    "    \"\"\"\n",
    "    cursor.execute(query)\n",
    "    cursor.close()\n",
    "    conn.close()\n",
    "\n",
    "    # 백테스팅 실행\n",
    "    for date_str  in all_trading_dates:\n",
    "        # print(date_str, '진입종목수',len(entered_stocks))  \n",
    "        date = pd.to_datetime(date_str)# 날짜 문자열을 datetime 객체로 변환\n",
    "        # 상장폐지된 종목 처리\n",
    "        if consider_delisting:\n",
    "            conn = mysql.connector.connect(**db_params)\n",
    "            cursor = conn.cursor()\n",
    "            query = \"\"\"\n",
    "                SELECT delisted_stocks.ticker\n",
    "                FROM delisted_stocks\n",
    "                WHERE delisted_stocks.delisted_date = %s\n",
    "            \"\"\"\n",
    "            cursor.execute(query, (date_str,))\n",
    "            delisted_stocks = cursor.fetchall()\n",
    "            cursor.close()\n",
    "            conn.close()\n",
    "            for delisted_stock in delisted_stocks:\n",
    "                ticker = delisted_stock[0]\n",
    "                if ticker in positions_dict:\n",
    "                    last_close_price = loaded_stock_data[ticker].loc[loaded_stock_data[ticker].index[-1], 'close']\n",
    "                    for position in positions_dict[ticker]:\n",
    "                        capital += position.quantity * last_close_price\n",
    "                    del positions_dict[ticker]\n",
    "                    entered_stocks.discard(ticker)\n",
    "                    print('상폐로 entered_stocks 삭제 완료')\n",
    "                    if ticker in current_orders_dict:\n",
    "                        del current_orders_dict[ticker]\n",
    "                        print('상폐로 current_orders_dict 삭제 완료')\n",
    "\n",
    "        \n",
    "        current_month = date.month\n",
    "        # 새로운 달의 시작일 경우, investment_per_split 업데이트\n",
    "        if current_month != previous_month:\n",
    "            investment_per_split = total_portfolio_value * investment_ratio // num_splits\n",
    "            previous_month = current_month\n",
    "            # print(date_str, '진입종목수',len(entered_stocks))    \n",
    "            \n",
    "        \n",
    "        # 기존 종목 2차 이상의 매도\n",
    "        for code in list(entered_stocks):\n",
    "            if date in loaded_stock_data[code].index:\n",
    "                row = loaded_stock_data[code].loc[date] \n",
    "\n",
    "                positions = positions_dict.get(code, []) # 현재 종목의 포지션 리스트\n",
    "                \n",
    "                positions, capital = additional_sell(row, positions, capital, sell_signals)\n",
    "                positions_dict[code] = positions  # 업데이트된 포지션 리스트를 다시 딕셔너리에 저장\n",
    "                \n",
    "                \n",
    "                # 추가: 진입된 종목과 그들의 현재 최대 차수 업데이트\n",
    "                if positions:\n",
    "                    current_order = max(position.order for position in positions)\n",
    "                    current_orders_dict[code] = current_order\n",
    "                else:\n",
    "                    if code in current_orders_dict:\n",
    "                        del current_orders_dict[code]\n",
    "                \n",
    "\n",
    "                \n",
    "        # 기존 종목 1차 청산\n",
    "        for code in list(entered_stocks):\n",
    "            if date in loaded_stock_data[code].index:\n",
    "                row = loaded_stock_data[code].loc[date]\n",
    "                positions = positions_dict.get(code, [])\n",
    "                positions, capital, liquidated_code = initial_buy_sell(row, positions, capital, investment_per_split, buy_threshold, buy_signals, sell_signals, code)\n",
    "                positions_dict[code] = positions\n",
    "\n",
    "                # 청산된 종목 제거\n",
    "                if liquidated_code:\n",
    "                    entered_stocks.discard(liquidated_code)\n",
    "                    if liquidated_code in current_orders_dict:\n",
    "                        del current_orders_dict[liquidated_code]\n",
    "                else:\n",
    "                    # 추가: 진입된 종목과 그들의 현재 최대 차수 업데이트\n",
    "                    if positions:\n",
    "                        current_order = max(position.order for position in positions)\n",
    "                        current_orders_dict[code] = current_order\n",
    "                    else:\n",
    "                        if code in current_orders_dict:\n",
    "                            del current_orders_dict[code]        \n",
    "                        \n",
    "                        \n",
    "        # 신규 종목 매수 및 기존 종목 추가 매수\n",
    "        if len(entered_stocks) < max_stocks and capital > investment_per_split:\n",
    "            stock_codes = get_stock_codes(date, per_threshold, pbr_threshold, div_threshold, buy_threshold, db_params, consider_delisting)\n",
    "            random.shuffle(stock_codes)\n",
    "            # print(len(stock_codes))\n",
    "            for code in stock_codes:\n",
    "                if  len(entered_stocks) < max_stocks  and code not in entered_stocks:\n",
    "                    loaded_stock_data[code] = load_stock_data_from_mysql(code, start_date, end_date, db_params)\n",
    "                    if date in loaded_stock_data[code].index: # 현재 날짜에 데이터가 있는지 확인\n",
    "                        sample_row = loaded_stock_data[code].loc[date]  # 현재 날짜의 데이터를 사용\n",
    "                        five_year_low = sample_row['five_year_low']\n",
    "                        last_buy_price = sample_row['close']\n",
    "                        additional_buy_drop_rate = calculate_additional_buy_drop_rate(last_buy_price, five_year_low, num_splits)\n",
    "                        \n",
    "                        if additional_buy_drop_rate >= min_additional_buy_drop_rate:    \n",
    "                            # print(\"ok\")\n",
    "                            row = loaded_stock_data[code].loc[date]\n",
    "                            positions = []\n",
    "                            positions, capital, liquidated_code = initial_buy_sell(row, positions, capital, investment_per_split, buy_threshold, buy_signals, sell_signals, code)\n",
    "                            positions_dict[code] = positions\n",
    "                        \n",
    "                            if positions:\n",
    "                                entered_stocks.add(code)\n",
    "                                current_order = max(position.order for position in positions)\n",
    "                                current_orders_dict[code] = current_order  \n",
    "                            else:\n",
    "                                if code in loaded_stock_data:\n",
    "                                    del loaded_stock_data[code]\n",
    "                        \n",
    "        # 기존 종목 추가 매수\n",
    "        for code in list(entered_stocks):\n",
    "            if date in loaded_stock_data[code].index:\n",
    "                row = loaded_stock_data[code].loc[date]\n",
    "                positions = positions_dict.get(code, [])\n",
    "                positions, capital = additional_buy(row, positions, capital, investment_per_split, num_splits, buy_signals)\n",
    "                positions_dict[code] = positions                \n",
    "                        \n",
    "                # 추가: 진입된 종목과 그들의 현재 최대 차수 업데이트\n",
    "                if positions:  # 해당 종목에 포지션이 있으면\n",
    "                    entered_stocks.add(code)\n",
    "                    current_order = max(position.order for position in positions)\n",
    "                    current_orders_dict[code] = current_order\n",
    "                else : \n",
    "                    if capital < investment_per_split:\n",
    "                        entered_stocks.discard(code)\n",
    "        # 포트폴리오 가치 업데이트\n",
    "        # current_stock_value=np.sum([position.quantity * loaded_stock_data[code].loc[date]['close'] for code, positions in positions_dict.items() for position in positions])\n",
    "        current_stock_value = np.sum([\n",
    "            position.quantity * loaded_stock_data[code].loc[date]['close']\n",
    "            for code, positions in positions_dict.items()\n",
    "            for position in positions\n",
    "            if date in loaded_stock_data[code].index\n",
    "        ])\n",
    "\n",
    "        total_portfolio_value = np.sum([capital, current_stock_value])\n",
    "        portfolio_values_over_time = np.append(portfolio_values_over_time, total_portfolio_value)\n",
    "        capital_over_time = np.append(capital_over_time, capital)  # 현재 자본 추가\n",
    "        # for code, order in current_orders_dict.items():\n",
    "        #     print(f\"종목 코드 {code}의 현재 최대 차수: {order}\")\n",
    "     # 백테스팅 루프 종료 후\n",
    "    total_days = (all_trading_dates[-1] - all_trading_dates[0]).days\n",
    "    total_years = total_days / 365.25\n",
    "    final_portfolio_value = portfolio_values_over_time[-1]\n",
    "    cagr = np.power(final_portfolio_value / initial_capital, 1 / total_years) - 1\n",
    "    print('백테스팅 종료')    \n",
    "    return positions_dict, total_portfolio_value, portfolio_values_over_time, capital_over_time, buy_signals, sell_signals, all_trading_dates, cagr\n"
   ]
  },
  {
   "cell_type": "code",
   "execution_count": 8,
   "id": "f70ee790",
   "metadata": {},
   "outputs": [],
   "source": [
    "# MDD 계산 함수 (numpy 적용)\n",
    "def calculate_mdd(portfolio_values):\n",
    "    peak = np.maximum.accumulate(portfolio_values)\n",
    "    drawdown = (peak - portfolio_values) / peak\n",
    "    mdd = np.max(drawdown)\n",
    "    return mdd\n",
    "# 백테스팅 결과 시각화 함수\n",
    "def plot_backtesting_results(all_trading_dates, portfolio_values_over_time, capital_over_time, buy_signals, sell_signals):\n",
    "    plt.figure(figsize=(14, 7))\n",
    "    plt.plot(all_trading_dates, portfolio_values_over_time, label='Portfolio Value', color='blue')\n",
    "    plt.plot(all_trading_dates, capital_over_time, label='Capital', color='green')\n",
    "    if buy_signals:\n",
    "        buy_dates, buy_prices = zip(*buy_signals)\n",
    "        plt.scatter(buy_dates, buy_prices, marker='^', color='red', label='Buy Signal')\n",
    "    if sell_signals:\n",
    "        sell_dates, sell_prices = zip(*sell_signals)\n",
    "        plt.scatter(sell_dates, sell_prices, marker='v', color='black', label='Sell Signal')\n",
    "    plt.xlabel('Date')\n",
    "    plt.ylabel('Value')\n",
    "    plt.title('Portfolio Value and Capital Over Time')\n",
    "    plt.legend()\n",
    "    plt.grid(True)\n",
    "    plt.show()\n",
    "\n",
    "# 백테스팅 결과 분석 함수\n",
    "def analyze_backtesting_results(positions_dict, total_portfolio_value, cagr, mdd):\n",
    "    print(f\"최종 포트폴리오 가치: {total_portfolio_value}\")\n",
    "    print(f\"CAGR: {cagr}\")\n",
    "    print(f\"MDD: {mdd:.2%}\")\n",
    "    for ticker, positions in positions_dict.items():\n",
    "        print(f\"종목: {ticker}\")\n",
    "        for position in positions:\n",
    "            print(f\"  매수가: {position.buy_price}, 수량: {position.quantity}, 차수: {position.order}\")\n",
    "\n",
    "\n",
    "def backtesting_wrapper(params):\n",
    "    num_splits, buy_threshold, investment_ratio, consider_delisting, max_stocks = params\n",
    "    try:\n",
    "        _, _, portfolio_values_over_time, _, _, _, _, cagr = portfolio_backtesting(\n",
    "            initial_capital, num_splits, investment_ratio, buy_threshold, start_date, end_date, db_params, per_threshold, pbr_threshold, div_threshold, min_additional_buy_drop_rate, consider_delisting, max_stocks\n",
    "        )\n",
    "        mdd = calculate_mdd(portfolio_values_over_time)  # MDD 계산\n",
    "        return num_splits, buy_threshold, investment_ratio, consider_delisting, max_stocks, cagr, mdd\n",
    "    except Exception as e:\n",
    "        print(f'Error in backtesting: {e}')\n",
    "        return num_splits, buy_threshold, investment_ratio, consider_delisting, max_stocks, None, None  # 오류가 발생한 경우 CAGR과 MDD를 None으로 설정\n",
    "\n",
    " \n",
    "def check_if_already_calculated(num_splits, buy_threshold, investment_ratio, consider_delisting, max_stocks, results_file):\n",
    "    if os.path.exists(results_file):\n",
    "        existing_results = pd.read_csv(results_file)\n",
    "        return any((existing_results['num_splits'] == num_splits) & \n",
    "                   (existing_results['buy_threshold'] == buy_threshold) &\n",
    "                   (existing_results['investment_ratio'] == investment_ratio) &\n",
    "                   (existing_results['consider_delisting'] == consider_delisting) &\n",
    "                   (existing_results['max_stocks'] == max_stocks))\n",
    "    return False\n",
    "\n",
    "\n",
    "def run_backtesting_for_period(num_splits, buy_threshold, investment_ratio, start_year, end_year, db_params, per_threshold, pbr_threshold, div_threshold, min_additional_buy_drop_rate, consider_delisting, max_stocks):\n",
    "    start_date = f'{start_year}-01-01'\n",
    "    end_date = f'{end_year}-12-31'\n",
    "    _, total_portfolio_value, portfolio_values_over_time, _, _, _, _, cagr = portfolio_backtesting(\n",
    "        100000000, num_splits, investment_ratio, buy_threshold, start_date, end_date, db_params, per_threshold, pbr_threshold, div_threshold, min_additional_buy_drop_rate, consider_delisting, max_stocks\n",
    "    )\n",
    "    mdd = calculate_mdd(portfolio_values_over_time)  # MDD 계산\n",
    "    return total_portfolio_value, cagr, mdd\n",
    "\n",
    "\n",
    "\n",
    "def calculate_average_results(backtesting_results):\n",
    "    total_values = np.array([result[0] for result in backtesting_results])\n",
    "    cagr_values = np.array([result[1] for result in backtesting_results])\n",
    "    mdd_values = np.array([result[2] for result in backtesting_results])\n",
    "\n",
    "    average_total_value = np.mean(total_values)\n",
    "    average_cagr = np.mean(cagr_values)\n",
    "    average_mdd = np.mean(mdd_values)\n",
    "\n",
    "    return average_total_value, average_cagr, average_mdd\n",
    "\n",
    "# 시간 기간에 따른 평균 CAGR을 계산하는 래퍼 함수\n",
    "def average_cagr_wrapper(params):\n",
    "    num_splits, buy_threshold, investment_ratio, consider_delisting, max_stocks = params\n",
    "    period_results = []\n",
    "    for start_year, end_year in time_periods:\n",
    "        try:\n",
    "            total_value, cagr, mdd = run_backtesting_for_period(\n",
    "                num_splits, buy_threshold, investment_ratio, start_year, end_year, db_params, per_threshold, pbr_threshold, div_threshold, min_additional_buy_drop_rate, consider_delisting, max_stocks\n",
    "            )\n",
    "            period_results.append((total_value, cagr, mdd))\n",
    "        except Exception as e:\n",
    "            print(f'Error in backtesting for period {start_year}-{end_year}: {e}')\n",
    "            period_results.append((0, None, None))  # 오류가 발생한 경우 결과를 (0, None, None)으로 설정\n",
    "\n",
    "    average_results = calculate_average_results(period_results)\n",
    "    return num_splits, buy_threshold, investment_ratio, consider_delisting, max_stocks, average_results[0], average_results[1], average_results[2]\n",
    "\n"
   ]
  },
  {
   "cell_type": "markdown",
   "id": "bd795900-32fe-48a9-b239-143e3449726a",
   "metadata": {},
   "source": [
    "### 10. 메인 실행 코드"
   ]
  },
  {
   "cell_type": "code",
   "execution_count": 9,
   "id": "1b5bd0be-e8a6-4c24-b46e-10641daab919",
   "metadata": {},
   "outputs": [],
   "source": [
    "# 설정 파일 읽기\n",
    "config = configparser.ConfigParser()\n",
    "config.read('config.ini')\n",
    "\n",
    "# 데이터베이스 연결 정보 설정\n",
    "db_params = {\n",
    "    'host': config['mysql']['host'],\n",
    "    'user': config['mysql']['user'],\n",
    "    'password': config['mysql']['password'],\n",
    "    'database': config['mysql']['database'],\n",
    "    'connection_timeout': 60 # 타임아웃을 60초로 증가\n",
    "}\n",
    "random.seed(61)\n",
    "# 백테스팅 파라미터\n",
    "initial_capital = 100000000  # 초기 자본 1억\n",
    "num_splits=10\n",
    "investment_ratio=0.1 #0.25\n",
    "buy_threshold=30\n",
    "\n",
    "start_date = '2004-01-01'\n",
    "end_date = '2024-01-01'\n",
    "\n",
    "\n",
    "# date = '2002-5-02'  # 조건을 만족하는 종목을 가져올 기준 날짜 2002-05-02부터 종목들이 등장\n",
    "# pbr 조건은 2002년 4월 23일부터 생성됨 \n",
    "# div 조건은 2000년 1월 4일부터 \n",
    "# per 조건은 2000년 1월 4일부터 \n",
    "# cf ) market_cap은 1995년\n",
    "per_threshold = 10\n",
    "pbr_threshold = 1.0\n",
    "div_threshold = 1.0\n",
    "min_additional_buy_drop_rate = 0.005\n",
    "consider_delisting = False  # 상장폐지 고려 여부 설정\n",
    "max_stocks = 40  # 최대 종목 수 설정\n",
    "\n",
    "\n",
    "# ## 백테스팅 함수 실행 후 결과 분석\n",
    "# positions_dict, total_portfolio_value, portfolio_values_over_time, capital_over_time, buy_signals, sell_signals, all_trading_dates, cagr = portfolio_backtesting(\n",
    "#     initial_capital, num_splits, investment_ratio, buy_threshold, start_date, end_date, db_params, per_threshold, pbr_threshold, div_threshold, min_additional_buy_drop_rate, consider_delisting, max_stocks\n",
    "# )\n",
    "\n",
    "# # MDD 계산\n",
    "# mdd = calculate_mdd(portfolio_values_over_time)\n",
    "# print(f\"MDD: {mdd:.2%}\")\n",
    "\n",
    "# # 결과 시각화\n",
    "# plot_backtesting_results(all_trading_dates, portfolio_values_over_time, capital_over_time, buy_signals, sell_signals)\n",
    "# analyze_backtesting_results(positions_dict, total_portfolio_value, cagr, mdd)"
   ]
  },
  {
   "cell_type": "markdown",
   "id": "4ba26193",
   "metadata": {},
   "source": [
    "### 병렬 백테스팅 실행 및 결과 저장"
   ]
  },
  {
   "cell_type": "code",
   "execution_count": 12,
   "id": "422d3c8a",
   "metadata": {},
   "outputs": [
    {
     "name": "stderr",
     "output_type": "stream",
     "text": [
      "  0%|          | 0/34 [00:00<?, ?it/s]"
     ]
    },
    {
     "name": "stdout",
     "output_type": "stream",
     "text": [
      "백테스팅 종료\n",
      "백테스팅 종료\n",
      "백테스팅 종료\n",
      "백테스팅 종료\n",
      "백테스팅 종료\n",
      "백테스팅 종료\n",
      "백테스팅 종료\n",
      "백테스팅 종료\n",
      "백테스팅 종료\n",
      "백테스팅 종료\n",
      "백테스팅 종료\n",
      "백테스팅 종료\n",
      "백테스팅 종료\n",
      "백테스팅 종료\n",
      "백테스팅 종료\n"
     ]
    },
    {
     "name": "stderr",
     "output_type": "stream",
     "text": [
      "  3%|▎         | 1/34 [4:49:12<159:03:56, 17352.63s/it]"
     ]
    },
    {
     "name": "stdout",
     "output_type": "stream",
     "text": [
      "백테스팅 종료\n",
      "백테스팅 종료\n",
      "백테스팅 종료\n",
      "백테스팅 종료\n",
      "백테스팅 종료\n",
      "백테스팅 종료\n",
      "백테스팅 종료\n"
     ]
    },
    {
     "name": "stderr",
     "output_type": "stream",
     "text": [
      "  6%|▌         | 2/34 [6:26:38<94:04:47, 10583.97s/it] "
     ]
    },
    {
     "name": "stdout",
     "output_type": "stream",
     "text": [
      "백테스팅 종료\n",
      "백테스팅 종료\n",
      "백테스팅 종료\n",
      "백테스팅 종료\n",
      "백테스팅 종료\n",
      "백테스팅 종료\n",
      "백테스팅 종료\n",
      "백테스팅 종료\n",
      "백테스팅 종료\n",
      "백테스팅 종료\n",
      "백테스팅 종료\n",
      "백테스팅 종료\n",
      "백테스팅 종료\n"
     ]
    },
    {
     "name": "stderr",
     "output_type": "stream",
     "text": [
      "  9%|▉         | 3/34 [9:08:26<87:41:43, 10183.99s/it]"
     ]
    },
    {
     "name": "stdout",
     "output_type": "stream",
     "text": [
      "백테스팅 종료\n",
      "백테스팅 종료\n"
     ]
    },
    {
     "name": "stderr",
     "output_type": "stream",
     "text": [
      " 12%|█▏        | 4/34 [9:22:42<54:10:47, 6501.57s/it] "
     ]
    },
    {
     "name": "stdout",
     "output_type": "stream",
     "text": [
      "백테스팅 종료\n",
      "백테스팅 종료\n",
      "백테스팅 종료\n",
      "백테스팅 종료\n",
      "백테스팅 종료\n",
      "백테스팅 종료\n"
     ]
    },
    {
     "name": "stderr",
     "output_type": "stream",
     "text": [
      " 15%|█▍        | 5/34 [10:28:16<44:54:51, 5575.57s/it]"
     ]
    },
    {
     "name": "stdout",
     "output_type": "stream",
     "text": [
      "백테스팅 종료\n",
      "백테스팅 종료\n",
      "백테스팅 종료\n",
      "백테스팅 종료\n",
      "백테스팅 종료\n",
      "백테스팅 종료\n",
      "백테스팅 종료\n",
      "백테스팅 종료\n"
     ]
    },
    {
     "name": "stderr",
     "output_type": "stream",
     "text": [
      " 18%|█▊        | 6/34 [11:56:06<42:33:22, 5471.51s/it]"
     ]
    },
    {
     "name": "stdout",
     "output_type": "stream",
     "text": [
      "백테스팅 종료\n",
      "백테스팅 종료\n",
      "백테스팅 종료\n",
      "백테스팅 종료\n",
      "백테스팅 종료\n",
      "백테스팅 종료\n",
      "백테스팅 종료\n",
      "백테스팅 종료\n"
     ]
    },
    {
     "name": "stderr",
     "output_type": "stream",
     "text": [
      " 21%|██        | 7/34 [13:22:59<40:24:10, 5387.07s/it]"
     ]
    },
    {
     "name": "stdout",
     "output_type": "stream",
     "text": [
      "백테스팅 종료\n",
      "백테스팅 종료\n",
      "백테스팅 종료\n",
      "백테스팅 종료\n",
      "백테스팅 종료\n",
      "백테스팅 종료\n",
      "백테스팅 종료\n",
      "백테스팅 종료\n"
     ]
    },
    {
     "name": "stderr",
     "output_type": "stream",
     "text": [
      " 24%|██▎       | 8/34 [14:46:56<38:06:05, 5275.59s/it]"
     ]
    },
    {
     "name": "stdout",
     "output_type": "stream",
     "text": [
      "백테스팅 종료\n",
      "백테스팅 종료\n"
     ]
    },
    {
     "name": "stderr",
     "output_type": "stream",
     "text": [
      " 29%|██▉       | 10/34 [15:00:57<17:56:42, 2691.77s/it]"
     ]
    },
    {
     "name": "stdout",
     "output_type": "stream",
     "text": [
      "백테스팅 종료\n",
      "백테스팅 종료\n",
      "백테스팅 종료\n",
      "백테스팅 종료\n",
      "백테스팅 종료\n",
      "백테스팅 종료\n",
      "백테스팅 종료\n",
      "백테스팅 종료\n",
      "백테스팅 종료\n",
      "백테스팅 종료\n",
      "백테스팅 종료\n",
      "백테스팅 종료\n"
     ]
    },
    {
     "name": "stderr",
     "output_type": "stream",
     "text": [
      " 32%|███▏      | 11/34 [17:37:59<30:21:25, 4751.56s/it]"
     ]
    },
    {
     "name": "stdout",
     "output_type": "stream",
     "text": [
      "백테스팅 종료\n",
      "백테스팅 종료\n",
      "백테스팅 종료\n",
      "백테스팅 종료\n",
      "백테스팅 종료\n"
     ]
    },
    {
     "name": "stderr",
     "output_type": "stream",
     "text": [
      " 35%|███▌      | 12/34 [18:54:52<28:46:49, 4709.53s/it]"
     ]
    },
    {
     "name": "stdout",
     "output_type": "stream",
     "text": [
      "백테스팅 종료\n"
     ]
    },
    {
     "name": "stderr",
     "output_type": "stream",
     "text": [
      " 38%|███▊      | 13/34 [18:59:01<19:35:22, 3358.22s/it]"
     ]
    },
    {
     "name": "stdout",
     "output_type": "stream",
     "text": [
      "백테스팅 종료\n",
      "백테스팅 종료\n",
      "백테스팅 종료\n",
      "백테스팅 종료\n",
      "백테스팅 종료\n",
      "백테스팅 종료\n",
      "백테스팅 종료\n",
      "백테스팅 종료\n",
      "백테스팅 종료\n",
      "백테스팅 종료\n",
      "백테스팅 종료\n",
      "백테스팅 종료\n",
      "백테스팅 종료\n",
      "백테스팅 종료\n",
      "백테스팅 종료\n"
     ]
    },
    {
     "name": "stderr",
     "output_type": "stream",
     "text": [
      " 41%|████      | 14/34 [21:44:54<29:43:26, 5350.34s/it]"
     ]
    },
    {
     "name": "stdout",
     "output_type": "stream",
     "text": [
      "백테스팅 종료\n",
      "백테스팅 종료\n",
      "백테스팅 종료\n"
     ]
    },
    {
     "name": "stderr",
     "output_type": "stream",
     "text": [
      " 44%|████▍     | 15/34 [22:11:48<22:17:33, 4223.89s/it]"
     ]
    },
    {
     "name": "stdout",
     "output_type": "stream",
     "text": [
      "백테스팅 종료\n"
     ]
    },
    {
     "name": "stderr",
     "output_type": "stream",
     "text": [
      " 47%|████▋     | 16/34 [22:18:36<15:22:38, 3075.44s/it]"
     ]
    },
    {
     "name": "stdout",
     "output_type": "stream",
     "text": [
      "백테스팅 종료\n",
      "백테스팅 종료\n"
     ]
    },
    {
     "name": "stderr",
     "output_type": "stream",
     "text": [
      " 50%|█████     | 17/34 [22:37:28<11:45:46, 2490.97s/it]"
     ]
    },
    {
     "name": "stdout",
     "output_type": "stream",
     "text": [
      "백테스팅 종료\n",
      "백테스팅 종료\n",
      "백테스팅 종료\n",
      "백테스팅 종료\n",
      "백테스팅 종료\n",
      "백테스팅 종료\n"
     ]
    },
    {
     "name": "stderr",
     "output_type": "stream",
     "text": [
      " 53%|█████▎    | 18/34 [24:48:48<18:16:05, 4110.33s/it]"
     ]
    },
    {
     "name": "stdout",
     "output_type": "stream",
     "text": [
      "백테스팅 종료\n",
      "백테스팅 종료\n",
      "백테스팅 종료\n",
      "백테스팅 종료\n"
     ]
    },
    {
     "name": "stderr",
     "output_type": "stream",
     "text": [
      " 59%|█████▉    | 20/34 [25:29:00<10:09:40, 2612.87s/it]"
     ]
    },
    {
     "name": "stdout",
     "output_type": "stream",
     "text": [
      "백테스팅 종료\n",
      "백테스팅 종료\n",
      "백테스팅 종료\n",
      "백테스팅 종료\n"
     ]
    },
    {
     "name": "stderr",
     "output_type": "stream",
     "text": [
      " 62%|██████▏   | 21/34 [26:37:28<11:03:22, 3061.75s/it]"
     ]
    },
    {
     "name": "stdout",
     "output_type": "stream",
     "text": [
      "백테스팅 종료\n",
      "백테스팅 종료\n",
      "백테스팅 종료\n",
      "백테스팅 종료\n"
     ]
    },
    {
     "name": "stderr",
     "output_type": "stream",
     "text": [
      " 65%|██████▍   | 22/34 [28:30:11<13:54:29, 4172.46s/it]"
     ]
    },
    {
     "name": "stdout",
     "output_type": "stream",
     "text": [
      "백테스팅 종료\n",
      "백테스팅 종료\n",
      "백테스팅 종료\n",
      "백테스팅 종료\n",
      "백테스팅 종료\n",
      "백테스팅 종료\n",
      "백테스팅 종료\n",
      "백테스팅 종료\n"
     ]
    },
    {
     "name": "stderr",
     "output_type": "stream",
     "text": [
      " 68%|██████▊   | 23/34 [31:50:01<19:55:03, 6518.47s/it]"
     ]
    },
    {
     "name": "stdout",
     "output_type": "stream",
     "text": [
      "백테스팅 종료\n",
      "백테스팅 종료\n",
      "백테스팅 종료\n",
      "백테스팅 종료\n",
      "백테스팅 종료\n",
      "백테스팅 종료\n"
     ]
    },
    {
     "name": "stderr",
     "output_type": "stream",
     "text": [
      " 71%|███████   | 24/34 [34:49:27<21:38:48, 7792.80s/it]"
     ]
    },
    {
     "name": "stdout",
     "output_type": "stream",
     "text": [
      "백테스팅 종료\n",
      "백테스팅 종료\n"
     ]
    },
    {
     "name": "stderr",
     "output_type": "stream",
     "text": [
      " 74%|███████▎  | 25/34 [35:01:20<14:10:16, 5668.55s/it]"
     ]
    },
    {
     "name": "stdout",
     "output_type": "stream",
     "text": [
      "백테스팅 종료\n",
      "백테스팅 종료\n",
      "백테스팅 종료\n"
     ]
    },
    {
     "name": "stderr",
     "output_type": "stream",
     "text": [
      " 76%|███████▋  | 26/34 [36:13:47<11:42:57, 5272.20s/it]"
     ]
    },
    {
     "name": "stdout",
     "output_type": "stream",
     "text": [
      "백테스팅 종료\n",
      "백테스팅 종료\n",
      "백테스팅 종료\n",
      "백테스팅 종료\n",
      "백테스팅 종료\n",
      "백테스팅 종료\n",
      "백테스팅 종료\n",
      "백테스팅 종료\n"
     ]
    },
    {
     "name": "stderr",
     "output_type": "stream",
     "text": [
      " 79%|███████▉  | 27/34 [40:00:34<15:06:49, 7772.72s/it]"
     ]
    },
    {
     "name": "stdout",
     "output_type": "stream",
     "text": [
      "백테스팅 종료\n"
     ]
    },
    {
     "name": "stderr",
     "output_type": "stream",
     "text": [
      " 82%|████████▏ | 28/34 [40:12:15<9:25:06, 5651.14s/it] "
     ]
    },
    {
     "name": "stdout",
     "output_type": "stream",
     "text": [
      "백테스팅 종료\n",
      "백테스팅 종료\n",
      "백테스팅 종료\n"
     ]
    },
    {
     "name": "stderr",
     "output_type": "stream",
     "text": [
      " 85%|████████▌ | 29/34 [41:51:58<7:59:12, 5750.51s/it]"
     ]
    },
    {
     "name": "stdout",
     "output_type": "stream",
     "text": [
      "백테스팅 종료\n",
      "백테스팅 종료\n",
      "백테스팅 종료\n",
      "백테스팅 종료\n"
     ]
    },
    {
     "name": "stderr",
     "output_type": "stream",
     "text": [
      " 88%|████████▊ | 30/34 [43:05:33<5:56:39, 5349.97s/it]"
     ]
    },
    {
     "name": "stdout",
     "output_type": "stream",
     "text": [
      "백테스팅 종료\n"
     ]
    },
    {
     "name": "stderr",
     "output_type": "stream",
     "text": [
      " 91%|█████████ | 31/34 [43:12:30<3:13:30, 3870.10s/it]"
     ]
    },
    {
     "name": "stdout",
     "output_type": "stream",
     "text": [
      "백테스팅 종료\n",
      "백테스팅 종료\n",
      "백테스팅 종료\n",
      "백테스팅 종료\n"
     ]
    },
    {
     "name": "stderr",
     "output_type": "stream",
     "text": [
      " 94%|█████████▍| 32/34 [44:48:14<2:27:44, 4432.18s/it]"
     ]
    },
    {
     "name": "stdout",
     "output_type": "stream",
     "text": [
      "백테스팅 종료\n",
      "백테스팅 종료\n"
     ]
    },
    {
     "name": "stderr",
     "output_type": "stream",
     "text": [
      " 97%|█████████▋| 33/34 [45:15:47<59:58, 3598.61s/it]  "
     ]
    },
    {
     "name": "stdout",
     "output_type": "stream",
     "text": [
      "백테스팅 종료\n"
     ]
    },
    {
     "name": "stderr",
     "output_type": "stream",
     "text": [
      "100%|██████████| 34/34 [45:23:49<00:00, 4806.76s/it]"
     ]
    },
    {
     "name": "stdout",
     "output_type": "stream",
     "text": [
      "백테스팅 종료\n"
     ]
    },
    {
     "name": "stderr",
     "output_type": "stream",
     "text": [
      "\n"
     ]
    },
    {
     "name": "stdout",
     "output_type": "stream",
     "text": [
      "    num_splits  buy_threshold  investment_ratio  consider_delisting  \\\n",
      "20          20             30              0.35               False   \n",
      "14          20             30              0.30               False   \n",
      "0           20             35              0.30               False   \n",
      "4           15             35              0.30               False   \n",
      "11          15             30              0.30               False   \n",
      "1           20             35              0.35               False   \n",
      "19          20             30              0.40               False   \n",
      "18          15             35              0.30               False   \n",
      "21          15             30              0.35               False   \n",
      "24          10             30              0.35               False   \n",
      "13          15             30              0.40               False   \n",
      "32          10             35              0.35               False   \n",
      "12          20             35              0.35               False   \n",
      "9           20             35              0.30               False   \n",
      "26          10             30              0.40               False   \n",
      "31          10             30              0.35               False   \n",
      "25          15             30              0.40               False   \n",
      "28          10             30              0.30               False   \n",
      "29          10             35              0.30               False   \n",
      "15          20             35              0.40               False   \n",
      "8           15             30              0.35               False   \n",
      "27          10             30              0.40               False   \n",
      "33          10             35              0.40               False   \n",
      "30          10             35              0.40               False   \n",
      "7           20             30              0.35               False   \n",
      "5           15             30              0.30               False   \n",
      "10          20             30              0.40               False   \n",
      "2           15             35              0.35               False   \n",
      "3           20             35              0.40               False   \n",
      "6           15             35              0.40               False   \n",
      "23          10             35              0.35               False   \n",
      "17          10             35              0.30               False   \n",
      "16          15             35              0.35               False   \n",
      "22          15             35              0.40               False   \n",
      "\n",
      "    max_stocks  Average_Total_Value  Average_CAGR  Average_MDD  \n",
      "20          50          861356150.4      0.156576     0.547575  \n",
      "14          50          891525409.0      0.155078     0.550685  \n",
      "0           40          816577369.2      0.155072     0.528765  \n",
      "4           40          887729491.8      0.153350     0.548324  \n",
      "11          50          832901532.6      0.151836     0.557238  \n",
      "1           40          869198930.2      0.147713     0.548599  \n",
      "19          50          737620587.8      0.147245     0.549280  \n",
      "18          50          780776680.6      0.145850     0.534362  \n",
      "21          50          708139654.8      0.145536     0.534122  \n",
      "24          40          714313933.2      0.145186     0.528241  \n",
      "13          40          707638305.4      0.145130     0.556232  \n",
      "32          50          724463491.8      0.144905     0.527540  \n",
      "12          50          776053643.6      0.144457     0.537208  \n",
      "9           50          730398052.0      0.144375     0.532220  \n",
      "26          40          766051048.0      0.144208     0.519532  \n",
      "31          50          779786628.6      0.143852     0.512677  \n",
      "25          50          739815174.2      0.143653     0.528278  \n",
      "28          50          710313915.4      0.143250     0.530412  \n",
      "29          50          692869578.4      0.143045     0.504281  \n",
      "15          50          739262596.8      0.142598     0.549768  \n",
      "8           40          690593226.6      0.142058     0.531639  \n",
      "27          50          633336893.0      0.140832     0.529869  \n",
      "33          50          688198997.6      0.140672     0.515394  \n",
      "30          40          700636432.4      0.138718     0.518083  \n",
      "7           40          664516233.8      0.138137     0.571376  \n",
      "5           40          682046502.2      0.138028     0.571337  \n",
      "10          40          670205474.8      0.137839     0.545607  \n",
      "2           40          627503950.4      0.136759     0.552057  \n",
      "3           40          704220833.2      0.133568     0.554163  \n",
      "6           40          632323184.2      0.133068     0.536861  \n",
      "23          40          669799720.4      0.132400     0.543706  \n",
      "17          40          548882551.6      0.128362     0.539902  \n",
      "16          50          538952567.4      0.125792     0.539636  \n",
      "22          50          538349271.4      0.123624     0.535649  \n"
     ]
    }
   ],
   "source": [
    "\n",
    "# 평균 CAGR과 평균 MDD를 함께 저장할 수 있는 DataFrame 열을 추가\n",
    "columns = [\"num_splits\", \"buy_threshold\", \"investment_ratio\", \"consider_delisting\", \"max_stocks\", \"Average_Total_Value\", \"Average_CAGR\", \"Average_MDD\"]\n",
    "\n",
    "num_splits_options = [10, 15, 20]\n",
    "buy_threshold_options = [30, 35]\n",
    "investment_ratio_options = [0.3, 0.35, 0.4]\n",
    "consider_delisting_options = [False] # True # 상장폐지 고려 여부 옵션 추가 \n",
    "max_stocks_options = [40,50]  # 최대 종목 수 옵션 추가\n",
    "\n",
    "results_file = 'average_backtesting_results_resent.csv'\n",
    "combinations = [(n, b, i, c, m) for n in num_splits_options for b in buy_threshold_options for i in investment_ratio_options for c in consider_delisting_options for m in max_stocks_options]\n",
    "\n",
    "time_periods = [(2006, 2023), (2008, 2023), (2010, 2023), (2012, 2023), (2014, 2023)]\n",
    "\n",
    "# 이미 계산된 조합을 건너뛰고 새로운 조합만 계산\n",
    "with concurrent.futures.ThreadPoolExecutor(max_workers=32) as executor:\n",
    "    futures = []\n",
    "    for param in combinations:\n",
    "        if not check_if_already_calculated(param[0], param[1], param[2], param[3], param[4], results_file):\n",
    "            futures.append(executor.submit(average_cagr_wrapper, param))\n",
    "    results = [] \n",
    "    for future in tqdm(concurrent.futures.as_completed(futures), total=len(futures)):\n",
    "        result = future.result()\n",
    "        results.append(result)\n",
    "\n",
    "# 결과 DataFrame 생성 및 저장\n",
    "results_df = pd.DataFrame(results, columns=columns)\n",
    "results_df.to_csv(results_file, index=False)\n",
    "\n",
    "# 결과 출력\n",
    "print(results_df.sort_values(by=\"Average_CAGR\", ascending=False))"
   ]
  }
 ],
 "metadata": {
  "kernelspec": {
   "display_name": "Python 3 (ipykernel)",
   "language": "python",
   "name": "python3"
  },
  "language_info": {
   "codemirror_mode": {
    "name": "ipython",
    "version": 3
   },
   "file_extension": ".py",
   "mimetype": "text/x-python",
   "name": "python",
   "nbconvert_exporter": "python",
   "pygments_lexer": "ipython3",
   "version": "3.8.8"
  }
 },
 "nbformat": 4,
 "nbformat_minor": 5
}
