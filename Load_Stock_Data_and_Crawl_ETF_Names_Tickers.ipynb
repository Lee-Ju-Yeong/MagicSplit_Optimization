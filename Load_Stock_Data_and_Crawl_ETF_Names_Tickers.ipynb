{
 "cells": [
  {
   "cell_type": "markdown",
   "id": "3409f4f2-2450-46bc-91e2-e4e154c554e6",
   "metadata": {},
   "source": [
    "# 주식 및 ETF 데이터 수집"
   ]
  },
  {
   "cell_type": "code",
   "execution_count": 2,
   "id": "ed37cfd1-8643-468d-b27a-8dc573731d53",
   "metadata": {},
   "outputs": [],
   "source": [
    "# !pip install pykrx\n",
    "# !pip install beautifulsoup4 pandas openpyxl selenium\n",
    "# !pip install webdriver-manager\n",
    "\n",
    "from selenium import webdriver\n",
    "from selenium.webdriver.common.by import By\n",
    "from selenium.webdriver.chrome.service import Service\n",
    "from webdriver_manager.chrome import ChromeDriverManager\n",
    "import pandas as pd\n",
    "import time\n",
    "from pykrx import stock\n",
    "import datetime\n",
    "import os\n"
   ]
  },
  {
   "cell_type": "code",
   "execution_count": 5,
   "id": "fff2aab2-6987-497e-91f7-6126baf6a1e2",
   "metadata": {
    "scrolled": true
   },
   "outputs": [
    {
     "name": "stdout",
     "output_type": "stream",
     "text": [
      "새 파일 생성: 137310\n",
      "새 파일 생성: 079430\n"
     ]
    },
    {
     "ename": "KeyboardInterrupt",
     "evalue": "",
     "output_type": "error",
     "traceback": [
      "\u001b[1;31m---------------------------------------------------------------------------\u001b[0m",
      "\u001b[1;31mKeyboardInterrupt\u001b[0m                         Traceback (most recent call last)",
      "Cell \u001b[1;32mIn[5], line 34\u001b[0m\n\u001b[0;32m     32\u001b[0m \u001b[38;5;28;01mif\u001b[39;00m df2\u001b[38;5;241m.\u001b[39mempty:\n\u001b[0;32m     33\u001b[0m     \u001b[38;5;28;01mcontinue\u001b[39;00m\n\u001b[1;32m---> 34\u001b[0m df3 \u001b[38;5;241m=\u001b[39m \u001b[43mstock\u001b[49m\u001b[38;5;241;43m.\u001b[39;49m\u001b[43mget_market_cap\u001b[49m\u001b[43m(\u001b[49m\u001b[38;5;124;43m\"\u001b[39;49m\u001b[38;5;124;43m19800102\u001b[39;49m\u001b[38;5;124;43m\"\u001b[39;49m\u001b[43m,\u001b[49m\u001b[43m \u001b[49m\u001b[43mcurrent_date\u001b[49m\u001b[38;5;241;43m.\u001b[39;49m\u001b[43mstrftime\u001b[49m\u001b[43m(\u001b[49m\u001b[38;5;124;43m\"\u001b[39;49m\u001b[38;5;124;43m%\u001b[39;49m\u001b[38;5;124;43mY\u001b[39;49m\u001b[38;5;124;43m%\u001b[39;49m\u001b[38;5;124;43mm\u001b[39;49m\u001b[38;5;132;43;01m%d\u001b[39;49;00m\u001b[38;5;124;43m\"\u001b[39;49m\u001b[43m)\u001b[49m\u001b[43m,\u001b[49m\u001b[43m \u001b[49m\u001b[43mticker\u001b[49m\u001b[43m)\u001b[49m\n\u001b[0;32m     35\u001b[0m combined_df \u001b[38;5;241m=\u001b[39m pd\u001b[38;5;241m.\u001b[39mconcat([df1, df2, df3], axis\u001b[38;5;241m=\u001b[39m\u001b[38;5;241m1\u001b[39m, join\u001b[38;5;241m=\u001b[39m\u001b[38;5;124m'\u001b[39m\u001b[38;5;124mouter\u001b[39m\u001b[38;5;124m'\u001b[39m)\n\u001b[0;32m     36\u001b[0m         \u001b[38;5;66;03m# '고가' 컬럼이 있는지 확인\u001b[39;00m\n",
      "File \u001b[1;32mc:\\AI\\Python38\\lib\\site-packages\\pykrx\\stock\\stock_api.py:345\u001b[0m, in \u001b[0;36mget_market_cap\u001b[1;34m(*args, **kwargs)\u001b[0m\n\u001b[0;32m    342\u001b[0m dates \u001b[38;5;241m=\u001b[39m \u001b[38;5;28mlist\u001b[39m(\u001b[38;5;28mfilter\u001b[39m(regex_yymmdd\u001b[38;5;241m.\u001b[39mmatch, [\u001b[38;5;28mstr\u001b[39m(x) \u001b[38;5;28;01mfor\u001b[39;00m x \u001b[38;5;129;01min\u001b[39;00m args]))\n\u001b[0;32m    343\u001b[0m \u001b[38;5;28;01mif\u001b[39;00m \u001b[38;5;28mlen\u001b[39m(dates) \u001b[38;5;241m==\u001b[39m \u001b[38;5;241m2\u001b[39m \u001b[38;5;129;01mor\u001b[39;00m (\u001b[38;5;124m'\u001b[39m\u001b[38;5;124mfromdate\u001b[39m\u001b[38;5;124m'\u001b[39m \u001b[38;5;129;01min\u001b[39;00m kwargs \u001b[38;5;129;01mand\u001b[39;00m\n\u001b[0;32m    344\u001b[0m                        \u001b[38;5;124m'\u001b[39m\u001b[38;5;124mtodate\u001b[39m\u001b[38;5;124m'\u001b[39m \u001b[38;5;129;01min\u001b[39;00m kwargs):\n\u001b[1;32m--> 345\u001b[0m     \u001b[38;5;28;01mreturn\u001b[39;00m \u001b[43mget_market_cap_by_date\u001b[49m\u001b[43m(\u001b[49m\u001b[38;5;241;43m*\u001b[39;49m\u001b[43margs\u001b[49m\u001b[43m,\u001b[49m\u001b[43m \u001b[49m\u001b[38;5;241;43m*\u001b[39;49m\u001b[38;5;241;43m*\u001b[39;49m\u001b[43mkwargs\u001b[49m\u001b[43m)\u001b[49m\n\u001b[0;32m    346\u001b[0m \u001b[38;5;28;01melse\u001b[39;00m:\n\u001b[0;32m    347\u001b[0m     \u001b[38;5;28;01mreturn\u001b[39;00m get_market_cap_by_ticker(\u001b[38;5;241m*\u001b[39margs, \u001b[38;5;241m*\u001b[39m\u001b[38;5;241m*\u001b[39mkwargs)\n",
      "File \u001b[1;32mc:\\AI\\Python38\\lib\\site-packages\\pykrx\\stock\\stock_api.py:380\u001b[0m, in \u001b[0;36mget_market_cap_by_date\u001b[1;34m(fromdate, todate, ticker, freq)\u001b[0m\n\u001b[0;32m    377\u001b[0m fromdate \u001b[38;5;241m=\u001b[39m fromdate\u001b[38;5;241m.\u001b[39mreplace(\u001b[38;5;124m\"\u001b[39m\u001b[38;5;124m-\u001b[39m\u001b[38;5;124m\"\u001b[39m, \u001b[38;5;124m\"\u001b[39m\u001b[38;5;124m\"\u001b[39m)\n\u001b[0;32m    378\u001b[0m todate \u001b[38;5;241m=\u001b[39m todate\u001b[38;5;241m.\u001b[39mreplace(\u001b[38;5;124m\"\u001b[39m\u001b[38;5;124m-\u001b[39m\u001b[38;5;124m\"\u001b[39m, \u001b[38;5;124m\"\u001b[39m\u001b[38;5;124m\"\u001b[39m)\n\u001b[1;32m--> 380\u001b[0m df \u001b[38;5;241m=\u001b[39m \u001b[43mkrx\u001b[49m\u001b[38;5;241;43m.\u001b[39;49m\u001b[43mget_market_cap_by_date\u001b[49m\u001b[43m(\u001b[49m\u001b[43mfromdate\u001b[49m\u001b[43m,\u001b[49m\u001b[43m \u001b[49m\u001b[43mtodate\u001b[49m\u001b[43m,\u001b[49m\u001b[43m \u001b[49m\u001b[43mticker\u001b[49m\u001b[43m)\u001b[49m\n\u001b[0;32m    382\u001b[0m how \u001b[38;5;241m=\u001b[39m {\n\u001b[0;32m    383\u001b[0m     \u001b[38;5;124m'\u001b[39m\u001b[38;5;124m시가총액\u001b[39m\u001b[38;5;124m'\u001b[39m: \u001b[38;5;124m'\u001b[39m\u001b[38;5;124mlast\u001b[39m\u001b[38;5;124m'\u001b[39m,\n\u001b[0;32m    384\u001b[0m     \u001b[38;5;124m'\u001b[39m\u001b[38;5;124m거래량\u001b[39m\u001b[38;5;124m'\u001b[39m: \u001b[38;5;124m'\u001b[39m\u001b[38;5;124msum\u001b[39m\u001b[38;5;124m'\u001b[39m,\n\u001b[0;32m    385\u001b[0m     \u001b[38;5;124m'\u001b[39m\u001b[38;5;124m거래대금\u001b[39m\u001b[38;5;124m'\u001b[39m: \u001b[38;5;124m'\u001b[39m\u001b[38;5;124msum\u001b[39m\u001b[38;5;124m'\u001b[39m,\n\u001b[0;32m    386\u001b[0m     \u001b[38;5;124m'\u001b[39m\u001b[38;5;124m상장주식수\u001b[39m\u001b[38;5;124m'\u001b[39m: \u001b[38;5;124m'\u001b[39m\u001b[38;5;124mlast\u001b[39m\u001b[38;5;124m'\u001b[39m\n\u001b[0;32m    387\u001b[0m }\n\u001b[0;32m    388\u001b[0m \u001b[38;5;28;01mreturn\u001b[39;00m resample_ohlcv(df, freq, how)\n",
      "File \u001b[1;32mc:\\AI\\Python38\\lib\\site-packages\\pykrx\\website\\comm\\util.py:8\u001b[0m, in \u001b[0;36mdataframe_empty_handler.<locals>.wrapper\u001b[1;34m(*args, **kwargs)\u001b[0m\n\u001b[0;32m      6\u001b[0m \u001b[38;5;28;01mdef\u001b[39;00m \u001b[38;5;21mwrapper\u001b[39m(\u001b[38;5;241m*\u001b[39margs, \u001b[38;5;241m*\u001b[39m\u001b[38;5;241m*\u001b[39mkwargs):\n\u001b[0;32m      7\u001b[0m     \u001b[38;5;28;01mtry\u001b[39;00m:\n\u001b[1;32m----> 8\u001b[0m         \u001b[38;5;28;01mreturn\u001b[39;00m \u001b[43mfunc\u001b[49m\u001b[43m(\u001b[49m\u001b[38;5;241;43m*\u001b[39;49m\u001b[43margs\u001b[49m\u001b[43m,\u001b[49m\u001b[43m \u001b[49m\u001b[38;5;241;43m*\u001b[39;49m\u001b[38;5;241;43m*\u001b[39;49m\u001b[43mkwargs\u001b[49m\u001b[43m)\u001b[49m\n\u001b[0;32m      9\u001b[0m     \u001b[38;5;28;01mexcept\u001b[39;00m (\u001b[38;5;167;01mAttributeError\u001b[39;00m, \u001b[38;5;167;01mKeyError\u001b[39;00m, \u001b[38;5;167;01mTypeError\u001b[39;00m, \u001b[38;5;167;01mValueError\u001b[39;00m) \u001b[38;5;28;01mas\u001b[39;00m e:\n\u001b[0;32m     10\u001b[0m         logging\u001b[38;5;241m.\u001b[39minfo(args, kwargs)\n",
      "File \u001b[1;32mc:\\AI\\Python38\\lib\\site-packages\\pykrx\\website\\krx\\market\\wrap.py:139\u001b[0m, in \u001b[0;36mget_market_cap_by_date\u001b[1;34m(fromdate, todate, ticker, adjusted)\u001b[0m\n\u001b[0;32m    137\u001b[0m isin \u001b[38;5;241m=\u001b[39m get_stock_ticker_isin(ticker)\n\u001b[0;32m    138\u001b[0m adjusted \u001b[38;5;241m=\u001b[39m \u001b[38;5;241m2\u001b[39m \u001b[38;5;28;01mif\u001b[39;00m adjusted \u001b[38;5;28;01melse\u001b[39;00m \u001b[38;5;241m1\u001b[39m\n\u001b[1;32m--> 139\u001b[0m df \u001b[38;5;241m=\u001b[39m \u001b[43m개별종목시세\u001b[49m\u001b[43m(\u001b[49m\u001b[43m)\u001b[49m\u001b[38;5;241;43m.\u001b[39;49m\u001b[43mfetch\u001b[49m\u001b[43m(\u001b[49m\u001b[43mfromdate\u001b[49m\u001b[43m,\u001b[49m\u001b[43m \u001b[49m\u001b[43mtodate\u001b[49m\u001b[43m,\u001b[49m\u001b[43m \u001b[49m\u001b[43misin\u001b[49m\u001b[43m,\u001b[49m\u001b[43m \u001b[49m\u001b[43madjusted\u001b[49m\u001b[43m)\u001b[49m\n\u001b[0;32m    140\u001b[0m df \u001b[38;5;241m=\u001b[39m df[[\u001b[38;5;124m'\u001b[39m\u001b[38;5;124mTRD_DD\u001b[39m\u001b[38;5;124m'\u001b[39m, \u001b[38;5;124m'\u001b[39m\u001b[38;5;124mMKTCAP\u001b[39m\u001b[38;5;124m'\u001b[39m, \u001b[38;5;124m'\u001b[39m\u001b[38;5;124mACC_TRDVOL\u001b[39m\u001b[38;5;124m'\u001b[39m, \u001b[38;5;124m'\u001b[39m\u001b[38;5;124mACC_TRDVAL\u001b[39m\u001b[38;5;124m'\u001b[39m, \u001b[38;5;124m'\u001b[39m\u001b[38;5;124mLIST_SHRS\u001b[39m\u001b[38;5;124m'\u001b[39m]]\n\u001b[0;32m    141\u001b[0m df\u001b[38;5;241m.\u001b[39mcolumns \u001b[38;5;241m=\u001b[39m [\u001b[38;5;124m'\u001b[39m\u001b[38;5;124m날짜\u001b[39m\u001b[38;5;124m'\u001b[39m, \u001b[38;5;124m'\u001b[39m\u001b[38;5;124m시가총액\u001b[39m\u001b[38;5;124m'\u001b[39m, \u001b[38;5;124m'\u001b[39m\u001b[38;5;124m거래량\u001b[39m\u001b[38;5;124m'\u001b[39m, \u001b[38;5;124m'\u001b[39m\u001b[38;5;124m거래대금\u001b[39m\u001b[38;5;124m'\u001b[39m, \u001b[38;5;124m'\u001b[39m\u001b[38;5;124m상장주식수\u001b[39m\u001b[38;5;124m'\u001b[39m]\n",
      "File \u001b[1;32mc:\\AI\\Python38\\lib\\site-packages\\pykrx\\website\\krx\\market\\core.py:114\u001b[0m, in \u001b[0;36m개별종목시세.fetch\u001b[1;34m(self, strtDd, endDd, isuCd, adjStkPrc)\u001b[0m\n\u001b[0;32m     82\u001b[0m \u001b[38;5;28;01mdef\u001b[39;00m \u001b[38;5;21mfetch\u001b[39m(\u001b[38;5;28mself\u001b[39m, strtDd: \u001b[38;5;28mstr\u001b[39m, endDd: \u001b[38;5;28mstr\u001b[39m, isuCd: \u001b[38;5;28mstr\u001b[39m, adjStkPrc: \u001b[38;5;28mint\u001b[39m) \u001b[38;5;241m-\u001b[39m\u001b[38;5;241m>\u001b[39m DataFrame:\n\u001b[0;32m     83\u001b[0m \u001b[38;5;250m    \u001b[39m\u001b[38;5;124;03m\"\"\"[12003] 개별종목 시세 추이 (수정종가 아님)\u001b[39;00m\n\u001b[0;32m     84\u001b[0m \n\u001b[0;32m     85\u001b[0m \u001b[38;5;124;03m    Args:\u001b[39;00m\n\u001b[1;32m   (...)\u001b[0m\n\u001b[0;32m    112\u001b[0m \u001b[38;5;124;03m            543,250,212,050,000  5,969,782,550\u001b[39;00m\n\u001b[0;32m    113\u001b[0m \u001b[38;5;124;03m    \"\"\"\u001b[39;00m\n\u001b[1;32m--> 114\u001b[0m     result \u001b[38;5;241m=\u001b[39m \u001b[38;5;28;43mself\u001b[39;49m\u001b[38;5;241;43m.\u001b[39;49m\u001b[43mread\u001b[49m\u001b[43m(\u001b[49m\u001b[43misuCd\u001b[49m\u001b[38;5;241;43m=\u001b[39;49m\u001b[43misuCd\u001b[49m\u001b[43m,\u001b[49m\u001b[43m \u001b[49m\u001b[43mstrtDd\u001b[49m\u001b[38;5;241;43m=\u001b[39;49m\u001b[43mstrtDd\u001b[49m\u001b[43m,\u001b[49m\u001b[43m \u001b[49m\u001b[43mendDd\u001b[49m\u001b[38;5;241;43m=\u001b[39;49m\u001b[43mendDd\u001b[49m\u001b[43m,\u001b[49m\u001b[43m \u001b[49m\u001b[43madjStkPrc\u001b[49m\u001b[38;5;241;43m=\u001b[39;49m\u001b[43madjStkPrc\u001b[49m\u001b[43m)\u001b[49m\n\u001b[0;32m    115\u001b[0m     \u001b[38;5;28;01mreturn\u001b[39;00m DataFrame(result[\u001b[38;5;124m'\u001b[39m\u001b[38;5;124moutput\u001b[39m\u001b[38;5;124m'\u001b[39m])\n",
      "File \u001b[1;32mc:\\AI\\Python38\\lib\\site-packages\\pykrx\\website\\krx\\krxio.py:43\u001b[0m, in \u001b[0;36mKrxWebIo.read\u001b[1;34m(self, **params)\u001b[0m\n\u001b[0;32m     40\u001b[0m         result[\u001b[38;5;124m'\u001b[39m\u001b[38;5;124moutput\u001b[39m\u001b[38;5;124m'\u001b[39m] \u001b[38;5;241m+\u001b[39m\u001b[38;5;241m=\u001b[39m resp\u001b[38;5;241m.\u001b[39mjson()[\u001b[38;5;124m'\u001b[39m\u001b[38;5;124moutput\u001b[39m\u001b[38;5;124m'\u001b[39m]\n\u001b[0;32m     42\u001b[0m     \u001b[38;5;66;03m# 초당 2년 데이터 조회\u001b[39;00m\n\u001b[1;32m---> 43\u001b[0m     \u001b[43mtime\u001b[49m\u001b[38;5;241;43m.\u001b[39;49m\u001b[43msleep\u001b[49m\u001b[43m(\u001b[49m\u001b[38;5;241;43m1\u001b[39;49m\u001b[43m)\u001b[49m\n\u001b[0;32m     45\u001b[0m \u001b[38;5;28;01mif\u001b[39;00m dt_s \u001b[38;5;241m<\u001b[39m\u001b[38;5;241m=\u001b[39m dt_e:\n\u001b[0;32m     46\u001b[0m     params[\u001b[38;5;124m'\u001b[39m\u001b[38;5;124mstrtDd\u001b[39m\u001b[38;5;124m'\u001b[39m] \u001b[38;5;241m=\u001b[39m dt_s\u001b[38;5;241m.\u001b[39mstrftime(\u001b[38;5;124m\"\u001b[39m\u001b[38;5;124m%\u001b[39m\u001b[38;5;124mY\u001b[39m\u001b[38;5;124m%\u001b[39m\u001b[38;5;124mm\u001b[39m\u001b[38;5;132;01m%d\u001b[39;00m\u001b[38;5;124m\"\u001b[39m)\n",
      "\u001b[1;31mKeyboardInterrupt\u001b[0m: "
     ]
    }
   ],
   "source": [
    "\n",
    "# 저장된 파일이 있는 폴더 경로\n",
    "folder_path = '.'\n",
    "# 조건 설정\n",
    "per_threshold = 10\n",
    "pbr_threshold = 1\n",
    "div_threshold = 3\n",
    "\n",
    "\n",
    "# 현재 날짜 기준으로 최근 월 종목 리스트 수집\n",
    "current_date = datetime.datetime.now()\n",
    "last_month_str = current_date.strftime(\"%Y%m\") + '01'\n",
    "\n",
    "tickers_kosdaq = stock.get_market_ticker_list(last_month_str, market='KOSDAQ')\n",
    "tickers_kospi = stock.get_market_ticker_list(last_month_str, market='KOSPI')\n",
    "recent_tickers = set(tickers_kosdaq + tickers_kospi)\n",
    "\n",
    "# 각 티커에 대한 처리\n",
    "for ticker in recent_tickers:\n",
    "    # 티커의 마지막 자리가 0이 아니면 건너뜀\n",
    "    if ticker[-1] != '0':\n",
    "        continue\n",
    "\n",
    "    file_path = os.path.join(folder_path, f\"{ticker}.xlsx\")\n",
    "\n",
    "    # 파일이 존재하지 않으면 새로 생성\n",
    "    if not os.path.exists(file_path):\n",
    "        df1 = stock.get_market_ohlcv(\"19800102\", current_date.strftime(\"%Y%m%d\"), ticker)\n",
    "            # df1 또는 df2 중 하나라도 비어 있으면 다음 티커로 넘어감\n",
    "        if df1.empty:\n",
    "            continue\n",
    "        df2 = stock.get_market_fundamental(\"19800102\", current_date.strftime(\"%Y%m%d\"), ticker)\n",
    "        if df2.empty:\n",
    "            continue\n",
    "        df3 = stock.get_market_cap(\"19800102\", current_date.strftime(\"%Y%m%d\"), ticker)\n",
    "        combined_df = pd.concat([df1, df2, df3], axis=1, join='outer')\n",
    "                # '고가' 컬럼이 있는지 확인\n",
    "        if '고가' not in combined_df.columns:\n",
    "            continue\n",
    "                # 조건 확인\n",
    "        if ('PER' in combined_df.columns and 'PBR' in combined_df.columns and 'DIV' in combined_df.columns):\n",
    "            condition = (combined_df['PER'] > 0) & (combined_df['PER'] <= per_threshold) & \\\n",
    "                        (combined_df['PBR'] > 0) & (combined_df['PBR'] <= pbr_threshold) & \\\n",
    "                        (combined_df['DIV'] >= div_threshold)\n",
    "            if not condition.any():\n",
    "                continue  # 조건을 만족하지 않으면 다음 티커로 넘어감\n",
    "        else:\n",
    "            continue  # 필요한 컬럼이 없으면 넘어감\n",
    "        # 노멀라이즈드 값 계산\n",
    "        combined_df['normalized_value'] = (combined_df['종가'] - combined_df['종가'].rolling(window=252*5, min_periods=252).min()) / \\\n",
    "                                          (combined_df['종가'].rolling(window=252*5, min_periods=252).max() - combined_df['종가'].rolling(window=252*5, min_periods=252).min()) * 100\n",
    "        \n",
    "        combined_df.reset_index(inplace=True)\n",
    "        combined_df['ticker'] = ticker\n",
    "        combined_df.rename(columns={\n",
    "            '날짜': 'date',\n",
    "            '시가': 'open',\n",
    "            '고가': 'high',\n",
    "            '저가': 'low',\n",
    "            '종가': 'close',\n",
    "            '거래량': 'volume',\n",
    "            '거래대금': 'value',\n",
    "            '시가총액': 'market_cap',\n",
    "            '상장주식수': 'shares_outstanding'\n",
    "        }, inplace=True)\n",
    "        \n",
    "        # 엑셀 파일로 저장\n",
    "        combined_df.to_excel(file_path, index=False)\n",
    "        print(f\"새 파일 생성: {ticker}\")\n",
    "    else:\n",
    "        # 기존 파일 로드 및 업데이트\n",
    "        existing_df = pd.read_excel(file_path, index_col=0)\n",
    "        # 마지막 날짜 확인 및 새로운 데이터 수집\n",
    "        last_date = existing_df.index[-1]\n",
    "        next_date = (pd.to_datetime(last_date) + datetime.timedelta(days=1)).strftime(\"%Y%m%d\")\n",
    "        # 기존 데이터에서 중복을 피하기 위해 next_date 이후 데이터 삭제\n",
    "        existing_df = existing_df[:last_date]\n",
    "        new_ohlcv = stock.get_market_ohlcv(next_date, current_date.strftime(\"%Y%m%d\"), ticker)\n",
    "        new_fundamental = stock.get_market_fundamental(next_date, current_date.strftime(\"%Y%m%d\"), ticker)\n",
    "        new_cap = stock.get_market_cap(next_date, current_date.strftime(\"%Y%m%d\"), ticker)\n",
    "\n",
    "        \n",
    "        new_combined_df = pd.concat([new_ohlcv, new_fundamental, new_cap], axis=1, join='outer')\n",
    "          # 열 이름과 순서 일치시키기 전에 열의 수를 확인\n",
    "        if len(new_combined_df.columns) != len(existing_df.columns):\n",
    "            # print(f\"열의 수가 일치하지 않음: {ticker}\")\n",
    "            # print(new_combined_df.columns)\n",
    "            continue\n",
    "         # 노멀라이즈드 값 계산\n",
    "        new_combined_df['normalized_value'] = (new_combined_df['종가'] - new_combined_df['종가'].rolling(window=252*5, min_periods=252).min()) / \\\n",
    "                                              (new_combined_df['종가'].rolling(window=252*5, min_periods=252).max() - new_combined_df['종가'].rolling(window=252*5, min_periods=252).min()) * 100\n",
    "\n",
    "        new_combined_df.reset_index(inplace=True)\n",
    "        new_combined_df['ticker'] = ticker\n",
    "        new_combined_df.rename(columns={\n",
    "            '날짜': 'date',\n",
    "            '시가': 'open',\n",
    "            '고가': 'high',\n",
    "            '저가': 'low',\n",
    "            '종가': 'close',\n",
    "            '거래량': 'volume',\n",
    "            '거래대금': 'value',\n",
    "            '시가총액': 'market_cap',\n",
    "            '상장주식수': 'shares_outstanding'\n",
    "        }, inplace=True)\n",
    "        \n",
    "        # 기존 데이터와 새로운 데이터를 병합하여 업데이트\n",
    "        updated_df = pd.concat([existing_df, new_combined_df]).drop_duplicates(subset=['date', 'ticker'])\n",
    "        updated_df.to_excel(file_path, index=False)\n",
    "        print(f\"{ticker} 업데이트 완료\")"
   ]
  },
  {
   "cell_type": "markdown",
   "id": "791f1ae9",
   "metadata": {},
   "source": [
    "## ETF 티커 & 리스트 생성  "
   ]
  },
  {
   "cell_type": "code",
   "execution_count": 6,
   "id": "8203cf2a-763d-497a-8b5c-474809798158",
   "metadata": {},
   "outputs": [],
   "source": [
    "# 크롬 드라이버 설정\n",
    "options = webdriver.ChromeOptions()\n",
    "options.add_argument('headless')  # 브라우저 창을 띄우지 않음\n",
    "options.add_argument('disable-gpu')  # GPU 가속 비활성화\n",
    "options.add_argument('lang=ko_KR')  # 한국어 페이지\n",
    "\n",
    "# 크롬 드라이버 초기화\n",
    "driver = webdriver.Chrome(service=Service(ChromeDriverManager().install()), options=options)"
   ]
  },
  {
   "cell_type": "code",
   "execution_count": 8,
   "id": "9d37eebf",
   "metadata": {},
   "outputs": [
    {
     "name": "stdout",
     "output_type": "stream",
     "text": [
      "Excel 파일로 저장되었습니다: etf_list.xlsx\n"
     ]
    }
   ],
   "source": [
    "# URL에서 HTML 컨텐츠를 가져옴\n",
    "url = 'https://finance.naver.com/sise/etf.naver'\n",
    "driver.get(url)\n",
    "\n",
    "# 종목명과 티커를 추출하여 리스트로 저장\n",
    "etf_data = []\n",
    "rows = driver.find_elements(By.CSS_SELECTOR, '#etfItemTable > tr')\n",
    "for row in rows:\n",
    "    name_col = row.find_elements(By.CSS_SELECTOR, 'td.ctg a')\n",
    "    if name_col:\n",
    "        name = name_col[0].text.strip()\n",
    "        ticker = name_col[0].get_attribute('href').split('=')[-1]  # 종목명 링크에서 티커 추출\n",
    "        etf_data.append([name, ticker])\n",
    "\n",
    "# 드라이버 종료\n",
    "driver.quit()\n",
    "\n",
    "# DataFrame 생성\n",
    "df = pd.DataFrame(etf_data, columns=['종목명', '티커'])\n",
    "\n",
    "# DataFrame을 Excel 파일로 저장\n",
    "excel_filename = 'etf_list.xlsx'\n",
    "df.to_excel(excel_filename, index=False)\n",
    "\n",
    "print(f\"Excel 파일로 저장되었습니다: {excel_filename}\")\n"
   ]
  }
 ],
 "metadata": {
  "kernelspec": {
   "display_name": "Python 3 (ipykernel)",
   "language": "python",
   "name": "python3"
  },
  "language_info": {
   "codemirror_mode": {
    "name": "ipython",
    "version": 3
   },
   "file_extension": ".py",
   "mimetype": "text/x-python",
   "name": "python",
   "nbconvert_exporter": "python",
   "pygments_lexer": "ipython3",
   "version": "3.8.8"
  }
 },
 "nbformat": 4,
 "nbformat_minor": 5
}
